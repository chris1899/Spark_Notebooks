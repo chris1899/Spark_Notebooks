{
  "nbformat": 4,
  "nbformat_minor": 0,
  "metadata": {
    "colab": {
      "provenance": []
    },
    "kernelspec": {
      "name": "python3",
      "display_name": "Python 3"
    },
    "language_info": {
      "name": "python"
    }
  },
  "cells": [
    {
      "cell_type": "markdown",
      "source": [
        "# Install Java and Spark into Colab environment"
      ],
      "metadata": {
        "id": "oDRI-qemW-Mv"
      }
    },
    {
      "cell_type": "code",
      "execution_count": 1,
      "metadata": {
        "id": "ly211nz65ym3"
      },
      "outputs": [],
      "source": [
        "!apt-get install openjdk-8-jdk-headless -qq > /dev/null\n",
        "!wget -q http://archive.apache.org/dist/spark/spark-3.1.1/spark-3.1.1-bin-hadoop3.2.tgz\n",
        "!tar xf spark-3.1.1-bin-hadoop3.2.tgz\n",
        "!pip install -q findspark"
      ]
    },
    {
      "cell_type": "code",
      "source": [
        "import os\n",
        "os.environ[\"JAVA_HOME\"] = \"/usr/lib/jvm/java-8-openjdk-amd64\"\n",
        "os.environ[\"SPARK_HOME\"] = \"/content/spark-3.1.1-bin-hadoop3.2\""
      ],
      "metadata": {
        "id": "rkNPVZ_I54L8"
      },
      "execution_count": 2,
      "outputs": []
    },
    {
      "cell_type": "code",
      "source": [
        "import findspark\n",
        "\n",
        "findspark.init()\n",
        "\n",
        "from pyspark.sql import SparkSession\n",
        "\n",
        "spark = SparkSession.builder.master(\"local[*]\").getOrCreate()\n",
        "spark.conf.set(\"spark.sql.repl.eagerEval.enabled\", True) # Property used to format output tables better\n",
        "spark"
      ],
      "metadata": {
        "colab": {
          "base_uri": "https://localhost:8080/",
          "height": 219
        },
        "id": "2zULHqXs5_1B",
        "outputId": "a6320a87-35bd-425c-c094-5687df8b30d6"
      },
      "execution_count": 3,
      "outputs": [
        {
          "output_type": "execute_result",
          "data": {
            "text/plain": [
              "<pyspark.sql.session.SparkSession at 0x7f27f9a8c250>"
            ],
            "text/html": [
              "\n",
              "            <div>\n",
              "                <p><b>SparkSession - in-memory</b></p>\n",
              "                \n",
              "        <div>\n",
              "            <p><b>SparkContext</b></p>\n",
              "\n",
              "            <p><a href=\"http://56f08f67bf2a:4040\">Spark UI</a></p>\n",
              "\n",
              "            <dl>\n",
              "              <dt>Version</dt>\n",
              "                <dd><code>v3.1.1</code></dd>\n",
              "              <dt>Master</dt>\n",
              "                <dd><code>local[*]</code></dd>\n",
              "              <dt>AppName</dt>\n",
              "                <dd><code>pyspark-shell</code></dd>\n",
              "            </dl>\n",
              "        </div>\n",
              "        \n",
              "            </div>\n",
              "        "
            ]
          },
          "metadata": {},
          "execution_count": 3
        }
      ]
    },
    {
      "cell_type": "markdown",
      "source": [
        "# Import the data and create a Spark dataframe\n",
        "\n",
        "This dataset is public and comes from [UCI ML Repo](https://archive.ics.uci.edu/ml/datasets/Adult). \"This data derives from census data and consists of information about 48842 individuals and their annual income. You can use this information to predict if an individual earns <=50K or >50k a year. The dataset consists of both numeric and categorical variables.\"\n",
        "\n",
        "https://docs.databricks.com/_static/notebooks/binary-classification.html"
      ],
      "metadata": {
        "id": "FKTNYfRTXIMG"
      }
    },
    {
      "cell_type": "code",
      "source": [
        "from pyspark.sql.types import DoubleType, StringType, StructField, StructType"
      ],
      "metadata": {
        "id": "2Mwr46R69VTL"
      },
      "execution_count": 4,
      "outputs": []
    },
    {
      "cell_type": "code",
      "source": [
        "schema = StructType([\n",
        "  StructField(\"age\", DoubleType(), False),\n",
        "  StructField(\"workclass\", StringType(), False),\n",
        "  StructField(\"fnlwgt\", DoubleType(), False),\n",
        "  StructField(\"education\", StringType(), False),\n",
        "  StructField(\"education_num\", DoubleType(), False),\n",
        "  StructField(\"marital_status\", StringType(), False),\n",
        "  StructField(\"occupation\", StringType(), False),\n",
        "  StructField(\"relationship\", StringType(), False),\n",
        "  StructField(\"race\", StringType(), False),\n",
        "  StructField(\"sex\", StringType(), False),\n",
        "  StructField(\"capital_gain\", DoubleType(), False),\n",
        "  StructField(\"capital_loss\", DoubleType(), False),\n",
        "  StructField(\"hours_per_week\", DoubleType(), False),\n",
        "  StructField(\"native_country\", StringType(), False),\n",
        "  StructField(\"income\", StringType(), False)\n",
        "])"
      ],
      "metadata": {
        "id": "LyQzEbt09rQx"
      },
      "execution_count": 5,
      "outputs": []
    },
    {
      "cell_type": "code",
      "source": [
        "!ls ../adult_data"
      ],
      "metadata": {
        "colab": {
          "base_uri": "https://localhost:8080/"
        },
        "id": "mGgaig3W-SMR",
        "outputId": "87915a9d-0cbf-4163-b3a2-bbd360a43efd"
      },
      "execution_count": 9,
      "outputs": [
        {
          "output_type": "stream",
          "name": "stdout",
          "text": [
            "adult.data\n"
          ]
        }
      ]
    },
    {
      "cell_type": "code",
      "source": [
        "dataset = spark.read.format(\"csv\").schema(schema).load(\"../adult_data/adult.data\")\n",
        "\n",
        "cols = dataset.columns"
      ],
      "metadata": {
        "id": "yMXe0v0b9rOg"
      },
      "execution_count": 14,
      "outputs": []
    },
    {
      "cell_type": "code",
      "source": [
        "dataset.show(10)"
      ],
      "metadata": {
        "colab": {
          "base_uri": "https://localhost:8080/"
        },
        "id": "a5BcrEyw_Ygx",
        "outputId": "0092ee50-12ba-4abf-a71f-2684dc90df91"
      },
      "execution_count": 19,
      "outputs": [
        {
          "output_type": "stream",
          "name": "stdout",
          "text": [
            "+----+-----------------+--------+----------+-------------+--------------------+------------------+--------------+------+-------+------------+------------+--------------+--------------+------+\n",
            "| age|        workclass|  fnlwgt| education|education_num|      marital_status|        occupation|  relationship|  race|    sex|capital_gain|capital_loss|hours_per_week|native_country|income|\n",
            "+----+-----------------+--------+----------+-------------+--------------------+------------------+--------------+------+-------+------------+------------+--------------+--------------+------+\n",
            "|39.0|        State-gov| 77516.0| Bachelors|         13.0|       Never-married|      Adm-clerical| Not-in-family| White|   Male|      2174.0|         0.0|          40.0| United-States| <=50K|\n",
            "|50.0| Self-emp-not-inc| 83311.0| Bachelors|         13.0|  Married-civ-spouse|   Exec-managerial|       Husband| White|   Male|         0.0|         0.0|          13.0| United-States| <=50K|\n",
            "|38.0|          Private|215646.0|   HS-grad|          9.0|            Divorced| Handlers-cleaners| Not-in-family| White|   Male|         0.0|         0.0|          40.0| United-States| <=50K|\n",
            "|53.0|          Private|234721.0|      11th|          7.0|  Married-civ-spouse| Handlers-cleaners|       Husband| Black|   Male|         0.0|         0.0|          40.0| United-States| <=50K|\n",
            "|28.0|          Private|338409.0| Bachelors|         13.0|  Married-civ-spouse|    Prof-specialty|          Wife| Black| Female|         0.0|         0.0|          40.0|          Cuba| <=50K|\n",
            "|37.0|          Private|284582.0|   Masters|         14.0|  Married-civ-spouse|   Exec-managerial|          Wife| White| Female|         0.0|         0.0|          40.0| United-States| <=50K|\n",
            "|49.0|          Private|160187.0|       9th|          5.0| Married-spouse-a...|     Other-service| Not-in-family| Black| Female|         0.0|         0.0|          16.0|       Jamaica| <=50K|\n",
            "|52.0| Self-emp-not-inc|209642.0|   HS-grad|          9.0|  Married-civ-spouse|   Exec-managerial|       Husband| White|   Male|         0.0|         0.0|          45.0| United-States|  >50K|\n",
            "|31.0|          Private| 45781.0|   Masters|         14.0|       Never-married|    Prof-specialty| Not-in-family| White| Female|     14084.0|         0.0|          50.0| United-States|  >50K|\n",
            "|42.0|          Private|159449.0| Bachelors|         13.0|  Married-civ-spouse|   Exec-managerial|       Husband| White|   Male|      5178.0|         0.0|          40.0| United-States|  >50K|\n",
            "+----+-----------------+--------+----------+-------------+--------------------+------------------+--------------+------+-------+------------+------------+--------------+--------------+------+\n",
            "only showing top 10 rows\n",
            "\n"
          ]
        }
      ]
    },
    {
      "cell_type": "code",
      "source": [
        "dataset.show(5, truncate=False)"
      ],
      "metadata": {
        "colab": {
          "base_uri": "https://localhost:8080/"
        },
        "id": "U6fXfvaN9rMK",
        "outputId": "1dee628e-0724-417f-8509-61d14a0b9dc5"
      },
      "execution_count": 18,
      "outputs": [
        {
          "output_type": "stream",
          "name": "stdout",
          "text": [
            "+----+-----------------+--------+----------+-------------+-------------------+------------------+--------------+------+-------+------------+------------+--------------+--------------+------+\n",
            "|age |workclass        |fnlwgt  |education |education_num|marital_status     |occupation        |relationship  |race  |sex    |capital_gain|capital_loss|hours_per_week|native_country|income|\n",
            "+----+-----------------+--------+----------+-------------+-------------------+------------------+--------------+------+-------+------------+------------+--------------+--------------+------+\n",
            "|39.0| State-gov       |77516.0 | Bachelors|13.0         | Never-married     | Adm-clerical     | Not-in-family| White| Male  |2174.0      |0.0         |40.0          | United-States| <=50K|\n",
            "|50.0| Self-emp-not-inc|83311.0 | Bachelors|13.0         | Married-civ-spouse| Exec-managerial  | Husband      | White| Male  |0.0         |0.0         |13.0          | United-States| <=50K|\n",
            "|38.0| Private         |215646.0| HS-grad  |9.0          | Divorced          | Handlers-cleaners| Not-in-family| White| Male  |0.0         |0.0         |40.0          | United-States| <=50K|\n",
            "|53.0| Private         |234721.0| 11th     |7.0          | Married-civ-spouse| Handlers-cleaners| Husband      | Black| Male  |0.0         |0.0         |40.0          | United-States| <=50K|\n",
            "|28.0| Private         |338409.0| Bachelors|13.0         | Married-civ-spouse| Prof-specialty   | Wife         | Black| Female|0.0         |0.0         |40.0          | Cuba         | <=50K|\n",
            "+----+-----------------+--------+----------+-------------+-------------------+------------------+--------------+------+-------+------------+------------+--------------+--------------+------+\n",
            "only showing top 5 rows\n",
            "\n"
          ]
        }
      ]
    },
    {
      "cell_type": "markdown",
      "source": [
        "# Practice commands"
      ],
      "metadata": {
        "id": "R_GcDUdgXSiG"
      }
    },
    {
      "cell_type": "markdown",
      "source": [
        "### Display only 3 columns"
      ],
      "metadata": {
        "id": "tmZ_KiWJXSV8"
      }
    },
    {
      "cell_type": "code",
      "source": [
        "dataset[['age', 'occupation', 'income']].show(7)"
      ],
      "metadata": {
        "colab": {
          "base_uri": "https://localhost:8080/"
        },
        "id": "k4qznwHdAnGv",
        "outputId": "73e6dc38-11b0-43c8-aa2c-e7121fc72eac"
      },
      "execution_count": 21,
      "outputs": [
        {
          "output_type": "stream",
          "name": "stdout",
          "text": [
            "+----+------------------+------+\n",
            "| age|        occupation|income|\n",
            "+----+------------------+------+\n",
            "|39.0|      Adm-clerical| <=50K|\n",
            "|50.0|   Exec-managerial| <=50K|\n",
            "|38.0| Handlers-cleaners| <=50K|\n",
            "|53.0| Handlers-cleaners| <=50K|\n",
            "|28.0|    Prof-specialty| <=50K|\n",
            "|37.0|   Exec-managerial| <=50K|\n",
            "|49.0|     Other-service| <=50K|\n",
            "+----+------------------+------+\n",
            "only showing top 7 rows\n",
            "\n"
          ]
        }
      ]
    },
    {
      "cell_type": "markdown",
      "source": [
        "### Get the total count of people making more or less than $50k by level of education."
      ],
      "metadata": {
        "id": "gXgEZtv4XYRE"
      }
    },
    {
      "cell_type": "code",
      "source": [
        "dataset.groupby('education', 'income').count().show(5)"
      ],
      "metadata": {
        "colab": {
          "base_uri": "https://localhost:8080/"
        },
        "id": "dY1qlnBV9rIB",
        "outputId": "0a0cc31b-35a1-46ca-dded-5414b7fb3857"
      },
      "execution_count": 26,
      "outputs": [
        {
          "output_type": "stream",
          "name": "stdout",
          "text": [
            "+----------+------+-----+\n",
            "| education|income|count|\n",
            "+----------+------+-----+\n",
            "|      11th|  >50K|   60|\n",
            "|      12th| <=50K|  400|\n",
            "| Doctorate| <=50K|  107|\n",
            "|   Masters|  >50K|  959|\n",
            "|      10th| <=50K|  871|\n",
            "+----------+------+-----+\n",
            "only showing top 5 rows\n",
            "\n"
          ]
        }
      ]
    },
    {
      "cell_type": "markdown",
      "source": [
        "### Get the average number of work hours per week by country"
      ],
      "metadata": {
        "id": "AwxoUA41Xiq6"
      }
    },
    {
      "cell_type": "code",
      "source": [
        "dataset.groupby('native_country').mean('hours_per_week').show(10)"
      ],
      "metadata": {
        "colab": {
          "base_uri": "https://localhost:8080/"
        },
        "id": "qS-gSJJz9rF8",
        "outputId": "1fb7f141-c654-4093-fc83-ce56280252ac"
      },
      "execution_count": 35,
      "outputs": [
        {
          "output_type": "stream",
          "name": "stdout",
          "text": [
            "+-------------------+-------------------+\n",
            "|     native_country|avg(hours_per_week)|\n",
            "+-------------------+-------------------+\n",
            "| Dominican-Republic|  42.47142857142857|\n",
            "|            Ireland| 42.416666666666664|\n",
            "|               Cuba|   39.1578947368421|\n",
            "|          Guatemala|          39.234375|\n",
            "|               Iran|  43.97674418604651|\n",
            "|             Taiwan|  38.88235294117647|\n",
            "|        El-Salvador|  36.79245283018868|\n",
            "|      United-States|  40.44775454233802|\n",
            "|              South|            42.4125|\n",
            "|              Japan| 43.693548387096776|\n",
            "+-------------------+-------------------+\n",
            "only showing top 10 rows\n",
            "\n"
          ]
        }
      ]
    },
    {
      "cell_type": "markdown",
      "source": [
        "### What country is represenated the most in the dataset?"
      ],
      "metadata": {
        "id": "Os6-YEzmXoKZ"
      }
    },
    {
      "cell_type": "code",
      "source": [
        "dataset.toPandas()['native_country'].value_counts()[:5]"
      ],
      "metadata": {
        "colab": {
          "base_uri": "https://localhost:8080/"
        },
        "id": "S7Nn5Ya1DMEn",
        "outputId": "7397d73a-69f6-4f7b-99ec-6caa223dee6b"
      },
      "execution_count": 44,
      "outputs": [
        {
          "output_type": "execute_result",
          "data": {
            "text/plain": [
              " United-States    29170\n",
              " Mexico             643\n",
              " ?                  583\n",
              " Philippines        198\n",
              " Germany            137\n",
              "Name: native_country, dtype: int64"
            ]
          },
          "metadata": {},
          "execution_count": 44
        }
      ]
    },
    {
      "cell_type": "markdown",
      "source": [
        "### Display rows for those 40 years old or younger."
      ],
      "metadata": {
        "id": "1p7oT7PbXtH7"
      }
    },
    {
      "cell_type": "code",
      "source": [
        "dataset.filter(\"age <= 40\").show(5)"
      ],
      "metadata": {
        "colab": {
          "base_uri": "https://localhost:8080/"
        },
        "id": "EasobAk39rEB",
        "outputId": "f7de27f9-2daf-4eae-dc45-bba707633da8"
      },
      "execution_count": 49,
      "outputs": [
        {
          "output_type": "stream",
          "name": "stdout",
          "text": [
            "+----+----------+--------+----------+-------------+-------------------+------------------+--------------+------+-------+------------+------------+--------------+--------------+------+\n",
            "| age| workclass|  fnlwgt| education|education_num|     marital_status|        occupation|  relationship|  race|    sex|capital_gain|capital_loss|hours_per_week|native_country|income|\n",
            "+----+----------+--------+----------+-------------+-------------------+------------------+--------------+------+-------+------------+------------+--------------+--------------+------+\n",
            "|39.0| State-gov| 77516.0| Bachelors|         13.0|      Never-married|      Adm-clerical| Not-in-family| White|   Male|      2174.0|         0.0|          40.0| United-States| <=50K|\n",
            "|38.0|   Private|215646.0|   HS-grad|          9.0|           Divorced| Handlers-cleaners| Not-in-family| White|   Male|         0.0|         0.0|          40.0| United-States| <=50K|\n",
            "|28.0|   Private|338409.0| Bachelors|         13.0| Married-civ-spouse|    Prof-specialty|          Wife| Black| Female|         0.0|         0.0|          40.0|          Cuba| <=50K|\n",
            "|37.0|   Private|284582.0|   Masters|         14.0| Married-civ-spouse|   Exec-managerial|          Wife| White| Female|         0.0|         0.0|          40.0| United-States| <=50K|\n",
            "|31.0|   Private| 45781.0|   Masters|         14.0|      Never-married|    Prof-specialty| Not-in-family| White| Female|     14084.0|         0.0|          50.0| United-States|  >50K|\n",
            "+----+----------+--------+----------+-------------+-------------------+------------------+--------------+------+-------+------------+------------+--------------+--------------+------+\n",
            "only showing top 5 rows\n",
            "\n"
          ]
        }
      ]
    },
    {
      "cell_type": "markdown",
      "source": [
        "### Display younger persons only living within the USA"
      ],
      "metadata": {
        "id": "2SZ96MoUXz_Y"
      }
    },
    {
      "cell_type": "code",
      "source": [
        "dataset.filter( (dataset.age <= 40) & (dataset['native_country'] ==\" United-States\") ).show(8, truncate=False)  "
      ],
      "metadata": {
        "colab": {
          "base_uri": "https://localhost:8080/"
        },
        "id": "KmNXg_-a9rB8",
        "outputId": "0104d881-fb90-4945-a949-51f64eed8018"
      },
      "execution_count": 56,
      "outputs": [
        {
          "output_type": "stream",
          "name": "stdout",
          "text": [
            "+----+-----------------+--------+-------------+-------------+-------------------+------------------+--------------+------+-------+------------+------------+--------------+--------------+------+\n",
            "|age |workclass        |fnlwgt  |education    |education_num|marital_status     |occupation        |relationship  |race  |sex    |capital_gain|capital_loss|hours_per_week|native_country|income|\n",
            "+----+-----------------+--------+-------------+-------------+-------------------+------------------+--------------+------+-------+------------+------------+--------------+--------------+------+\n",
            "|39.0| State-gov       |77516.0 | Bachelors   |13.0         | Never-married     | Adm-clerical     | Not-in-family| White| Male  |2174.0      |0.0         |40.0          | United-States| <=50K|\n",
            "|38.0| Private         |215646.0| HS-grad     |9.0          | Divorced          | Handlers-cleaners| Not-in-family| White| Male  |0.0         |0.0         |40.0          | United-States| <=50K|\n",
            "|37.0| Private         |284582.0| Masters     |14.0         | Married-civ-spouse| Exec-managerial  | Wife         | White| Female|0.0         |0.0         |40.0          | United-States| <=50K|\n",
            "|31.0| Private         |45781.0 | Masters     |14.0         | Never-married     | Prof-specialty   | Not-in-family| White| Female|14084.0     |0.0         |50.0          | United-States| >50K |\n",
            "|37.0| Private         |280464.0| Some-college|10.0         | Married-civ-spouse| Exec-managerial  | Husband      | Black| Male  |0.0         |0.0         |80.0          | United-States| >50K |\n",
            "|23.0| Private         |122272.0| Bachelors   |13.0         | Never-married     | Adm-clerical     | Own-child    | White| Female|0.0         |0.0         |30.0          | United-States| <=50K|\n",
            "|32.0| Private         |205019.0| Assoc-acdm  |12.0         | Never-married     | Sales            | Not-in-family| Black| Male  |0.0         |0.0         |50.0          | United-States| <=50K|\n",
            "|25.0| Self-emp-not-inc|176756.0| HS-grad     |9.0          | Never-married     | Farming-fishing  | Own-child    | White| Male  |0.0         |0.0         |35.0          | United-States| <=50K|\n",
            "+----+-----------------+--------+-------------+-------------+-------------------+------------------+--------------+------+-------+------------+------------+--------------+--------------+------+\n",
            "only showing top 8 rows\n",
            "\n"
          ]
        }
      ]
    },
    {
      "cell_type": "markdown",
      "source": [
        "### What are the unique values of relationship?"
      ],
      "metadata": {
        "id": "Wg9bdVdAX3rZ"
      }
    },
    {
      "cell_type": "code",
      "source": [
        "dataset.select('relationship').distinct()"
      ],
      "metadata": {
        "colab": {
          "base_uri": "https://localhost:8080/",
          "height": 185
        },
        "id": "Gd6LVH579rAG",
        "outputId": "c98593d7-7f02-405a-cc9d-26fdadadf2e3"
      },
      "execution_count": 58,
      "outputs": [
        {
          "output_type": "execute_result",
          "data": {
            "text/plain": [
              "+---------------+\n",
              "|   relationship|\n",
              "+---------------+\n",
              "|        Husband|\n",
              "|      Own-child|\n",
              "|  Not-in-family|\n",
              "| Other-relative|\n",
              "|           Wife|\n",
              "|      Unmarried|\n",
              "+---------------+"
            ],
            "text/html": [
              "<table border='1'>\n",
              "<tr><th>relationship</th></tr>\n",
              "<tr><td> Husband</td></tr>\n",
              "<tr><td> Own-child</td></tr>\n",
              "<tr><td> Not-in-family</td></tr>\n",
              "<tr><td> Other-relative</td></tr>\n",
              "<tr><td> Wife</td></tr>\n",
              "<tr><td> Unmarried</td></tr>\n",
              "</table>\n"
            ]
          },
          "metadata": {},
          "execution_count": 58
        }
      ]
    },
    {
      "cell_type": "markdown",
      "source": [
        "### What is the average work hours per week by education in the USA?"
      ],
      "metadata": {
        "id": "3abled8yYAJl"
      }
    },
    {
      "cell_type": "code",
      "source": [
        "dataset.filter(\"native_country == ' United-States'\").groupby('education').mean('hours_per_week').orderBy('avg(hours_per_week)', ascending=False).withColumnRenamed(\"avg(hours_per_week)\", \"avg hours per week\")"
      ],
      "metadata": {
        "colab": {
          "base_uri": "https://localhost:8080/",
          "height": 418
        },
        "id": "9E5MGIMa9q-C",
        "outputId": "1e9923cb-b1e0-46a2-ebeb-ae25830904c7"
      },
      "execution_count": 68,
      "outputs": [
        {
          "output_type": "execute_result",
          "data": {
            "text/plain": [
              "+-------------+------------------+\n",
              "|    education|avg hours per week|\n",
              "+-------------+------------------+\n",
              "|  Prof-school| 47.48406374501992|\n",
              "|    Doctorate| 47.40853658536585|\n",
              "|      Masters| 44.16895874263261|\n",
              "|    Bachelors|   42.709190096517|\n",
              "|    Assoc-voc|41.633048875096975|\n",
              "|   Assoc-acdm| 40.65682281059063|\n",
              "|      HS-grad| 40.59606266749124|\n",
              "|      7th-8th| 39.06012024048096|\n",
              "| Some-college| 38.86186943620178|\n",
              "|          9th| 38.03544303797468|\n",
              "|      5th-6th| 36.97938144329897|\n",
              "|         10th| 36.91509433962264|\n",
              "|         12th| 34.95068493150685|\n",
              "|         11th| 33.68228678537957|\n",
              "|      1st-4th| 32.91304347826087|\n",
              "|    Preschool| 28.11764705882353|\n",
              "+-------------+------------------+"
            ],
            "text/html": [
              "<table border='1'>\n",
              "<tr><th>education</th><th>avg hours per week</th></tr>\n",
              "<tr><td> Prof-school</td><td>47.48406374501992</td></tr>\n",
              "<tr><td> Doctorate</td><td>47.40853658536585</td></tr>\n",
              "<tr><td> Masters</td><td>44.16895874263261</td></tr>\n",
              "<tr><td> Bachelors</td><td>42.709190096517</td></tr>\n",
              "<tr><td> Assoc-voc</td><td>41.633048875096975</td></tr>\n",
              "<tr><td> Assoc-acdm</td><td>40.65682281059063</td></tr>\n",
              "<tr><td> HS-grad</td><td>40.59606266749124</td></tr>\n",
              "<tr><td> 7th-8th</td><td>39.06012024048096</td></tr>\n",
              "<tr><td> Some-college</td><td>38.86186943620178</td></tr>\n",
              "<tr><td> 9th</td><td>38.03544303797468</td></tr>\n",
              "<tr><td> 5th-6th</td><td>36.97938144329897</td></tr>\n",
              "<tr><td> 10th</td><td>36.91509433962264</td></tr>\n",
              "<tr><td> 12th</td><td>34.95068493150685</td></tr>\n",
              "<tr><td> 11th</td><td>33.68228678537957</td></tr>\n",
              "<tr><td> 1st-4th</td><td>32.91304347826087</td></tr>\n",
              "<tr><td> Preschool</td><td>28.11764705882353</td></tr>\n",
              "</table>\n"
            ]
          },
          "metadata": {},
          "execution_count": 68
        }
      ]
    },
    {
      "cell_type": "code",
      "source": [
        "from pyspark.sql.functions import min, max"
      ],
      "metadata": {
        "id": "8vzqgiEE9q70"
      },
      "execution_count": 69,
      "outputs": []
    },
    {
      "cell_type": "markdown",
      "source": [
        "### What is the least and most hours worked per week?"
      ],
      "metadata": {
        "id": "Ovq67IPkYGz-"
      }
    },
    {
      "cell_type": "code",
      "source": [
        "dataset.select(min(dataset['hours_per_week']), max(dataset['hours_per_week']))"
      ],
      "metadata": {
        "colab": {
          "base_uri": "https://localhost:8080/",
          "height": 68
        },
        "id": "-lURThMb9q52",
        "outputId": "6016b592-908e-4606-d195-caae4bc5db1c"
      },
      "execution_count": 70,
      "outputs": [
        {
          "output_type": "execute_result",
          "data": {
            "text/plain": [
              "+-------------------+-------------------+\n",
              "|min(hours_per_week)|max(hours_per_week)|\n",
              "+-------------------+-------------------+\n",
              "|                1.0|               99.0|\n",
              "+-------------------+-------------------+"
            ],
            "text/html": [
              "<table border='1'>\n",
              "<tr><th>min(hours_per_week)</th><th>max(hours_per_week)</th></tr>\n",
              "<tr><td>1.0</td><td>99.0</td></tr>\n",
              "</table>\n"
            ]
          },
          "metadata": {},
          "execution_count": 70
        }
      ]
    },
    {
      "cell_type": "markdown",
      "source": [
        "### Join another spark dataframe to the existing dataframe"
      ],
      "metadata": {
        "id": "KgcZ_UevYMCu"
      }
    },
    {
      "cell_type": "code",
      "source": [
        "filtered = dataset.filter(dataset['native_country'].isin([' Japan', ' Ireland']))\n",
        "filtered.toPandas()['native_country'].value_counts()"
      ],
      "metadata": {
        "colab": {
          "base_uri": "https://localhost:8080/"
        },
        "id": "dEXhunWa9q3e",
        "outputId": "7bf9c03e-fa6a-422f-d5cb-69c418aaa7ce"
      },
      "execution_count": 77,
      "outputs": [
        {
          "output_type": "execute_result",
          "data": {
            "text/plain": [
              " Japan      62\n",
              " Ireland    24\n",
              "Name: native_country, dtype: int64"
            ]
          },
          "metadata": {},
          "execution_count": 77
        }
      ]
    },
    {
      "cell_type": "code",
      "source": [
        "filtered.toPandas().sample(n=5).head()"
      ],
      "metadata": {
        "colab": {
          "base_uri": "https://localhost:8080/",
          "height": 250
        },
        "id": "z0CCki_V9p4P",
        "outputId": "a34ecc75-d5cc-4d9e-b0ae-22839c41d02d"
      },
      "execution_count": 80,
      "outputs": [
        {
          "output_type": "execute_result",
          "data": {
            "text/plain": [
              "     age workclass    fnlwgt     education  education_num  \\\n",
              "11  50.0   Private  139464.0     Bachelors           13.0   \n",
              "39  41.0   Private  204682.0       HS-grad            9.0   \n",
              "63  35.0         ?   98080.0   Prof-school           15.0   \n",
              "49  40.0   Private  115932.0     Bachelors           13.0   \n",
              "52  47.0   Private  133969.0     Bachelors           13.0   \n",
              "\n",
              "         marital_status        occupation    relationship  \\\n",
              "11             Divorced    Prof-specialty       Unmarried   \n",
              "39             Divorced      Craft-repair       Unmarried   \n",
              "63        Never-married                 ?   Not-in-family   \n",
              "49   Married-civ-spouse    Prof-specialty         Husband   \n",
              "52   Married-civ-spouse   Exec-managerial         Husband   \n",
              "\n",
              "                   race      sex  capital_gain  capital_loss  hours_per_week  \\\n",
              "11                White   Female           0.0           0.0            36.0   \n",
              "39                White     Male        2174.0           0.0            40.0   \n",
              "63   Asian-Pac-Islander     Male        4787.0           0.0            45.0   \n",
              "49                White     Male           0.0           0.0            60.0   \n",
              "52   Asian-Pac-Islander     Male        2885.0           0.0            65.0   \n",
              "\n",
              "   native_country  income  \n",
              "11        Ireland   <=50K  \n",
              "39          Japan   <=50K  \n",
              "63          Japan    >50K  \n",
              "49        Ireland    >50K  \n",
              "52          Japan   <=50K  "
            ],
            "text/html": [
              "\n",
              "  <div id=\"df-9f8015cd-7610-4aac-b3ec-980e35937cd9\">\n",
              "    <div class=\"colab-df-container\">\n",
              "      <div>\n",
              "<style scoped>\n",
              "    .dataframe tbody tr th:only-of-type {\n",
              "        vertical-align: middle;\n",
              "    }\n",
              "\n",
              "    .dataframe tbody tr th {\n",
              "        vertical-align: top;\n",
              "    }\n",
              "\n",
              "    .dataframe thead th {\n",
              "        text-align: right;\n",
              "    }\n",
              "</style>\n",
              "<table border=\"1\" class=\"dataframe\">\n",
              "  <thead>\n",
              "    <tr style=\"text-align: right;\">\n",
              "      <th></th>\n",
              "      <th>age</th>\n",
              "      <th>workclass</th>\n",
              "      <th>fnlwgt</th>\n",
              "      <th>education</th>\n",
              "      <th>education_num</th>\n",
              "      <th>marital_status</th>\n",
              "      <th>occupation</th>\n",
              "      <th>relationship</th>\n",
              "      <th>race</th>\n",
              "      <th>sex</th>\n",
              "      <th>capital_gain</th>\n",
              "      <th>capital_loss</th>\n",
              "      <th>hours_per_week</th>\n",
              "      <th>native_country</th>\n",
              "      <th>income</th>\n",
              "    </tr>\n",
              "  </thead>\n",
              "  <tbody>\n",
              "    <tr>\n",
              "      <th>11</th>\n",
              "      <td>50.0</td>\n",
              "      <td>Private</td>\n",
              "      <td>139464.0</td>\n",
              "      <td>Bachelors</td>\n",
              "      <td>13.0</td>\n",
              "      <td>Divorced</td>\n",
              "      <td>Prof-specialty</td>\n",
              "      <td>Unmarried</td>\n",
              "      <td>White</td>\n",
              "      <td>Female</td>\n",
              "      <td>0.0</td>\n",
              "      <td>0.0</td>\n",
              "      <td>36.0</td>\n",
              "      <td>Ireland</td>\n",
              "      <td>&lt;=50K</td>\n",
              "    </tr>\n",
              "    <tr>\n",
              "      <th>39</th>\n",
              "      <td>41.0</td>\n",
              "      <td>Private</td>\n",
              "      <td>204682.0</td>\n",
              "      <td>HS-grad</td>\n",
              "      <td>9.0</td>\n",
              "      <td>Divorced</td>\n",
              "      <td>Craft-repair</td>\n",
              "      <td>Unmarried</td>\n",
              "      <td>White</td>\n",
              "      <td>Male</td>\n",
              "      <td>2174.0</td>\n",
              "      <td>0.0</td>\n",
              "      <td>40.0</td>\n",
              "      <td>Japan</td>\n",
              "      <td>&lt;=50K</td>\n",
              "    </tr>\n",
              "    <tr>\n",
              "      <th>63</th>\n",
              "      <td>35.0</td>\n",
              "      <td>?</td>\n",
              "      <td>98080.0</td>\n",
              "      <td>Prof-school</td>\n",
              "      <td>15.0</td>\n",
              "      <td>Never-married</td>\n",
              "      <td>?</td>\n",
              "      <td>Not-in-family</td>\n",
              "      <td>Asian-Pac-Islander</td>\n",
              "      <td>Male</td>\n",
              "      <td>4787.0</td>\n",
              "      <td>0.0</td>\n",
              "      <td>45.0</td>\n",
              "      <td>Japan</td>\n",
              "      <td>&gt;50K</td>\n",
              "    </tr>\n",
              "    <tr>\n",
              "      <th>49</th>\n",
              "      <td>40.0</td>\n",
              "      <td>Private</td>\n",
              "      <td>115932.0</td>\n",
              "      <td>Bachelors</td>\n",
              "      <td>13.0</td>\n",
              "      <td>Married-civ-spouse</td>\n",
              "      <td>Prof-specialty</td>\n",
              "      <td>Husband</td>\n",
              "      <td>White</td>\n",
              "      <td>Male</td>\n",
              "      <td>0.0</td>\n",
              "      <td>0.0</td>\n",
              "      <td>60.0</td>\n",
              "      <td>Ireland</td>\n",
              "      <td>&gt;50K</td>\n",
              "    </tr>\n",
              "    <tr>\n",
              "      <th>52</th>\n",
              "      <td>47.0</td>\n",
              "      <td>Private</td>\n",
              "      <td>133969.0</td>\n",
              "      <td>Bachelors</td>\n",
              "      <td>13.0</td>\n",
              "      <td>Married-civ-spouse</td>\n",
              "      <td>Exec-managerial</td>\n",
              "      <td>Husband</td>\n",
              "      <td>Asian-Pac-Islander</td>\n",
              "      <td>Male</td>\n",
              "      <td>2885.0</td>\n",
              "      <td>0.0</td>\n",
              "      <td>65.0</td>\n",
              "      <td>Japan</td>\n",
              "      <td>&lt;=50K</td>\n",
              "    </tr>\n",
              "  </tbody>\n",
              "</table>\n",
              "</div>\n",
              "      <button class=\"colab-df-convert\" onclick=\"convertToInteractive('df-9f8015cd-7610-4aac-b3ec-980e35937cd9')\"\n",
              "              title=\"Convert this dataframe to an interactive table.\"\n",
              "              style=\"display:none;\">\n",
              "        \n",
              "  <svg xmlns=\"http://www.w3.org/2000/svg\" height=\"24px\"viewBox=\"0 0 24 24\"\n",
              "       width=\"24px\">\n",
              "    <path d=\"M0 0h24v24H0V0z\" fill=\"none\"/>\n",
              "    <path d=\"M18.56 5.44l.94 2.06.94-2.06 2.06-.94-2.06-.94-.94-2.06-.94 2.06-2.06.94zm-11 1L8.5 8.5l.94-2.06 2.06-.94-2.06-.94L8.5 2.5l-.94 2.06-2.06.94zm10 10l.94 2.06.94-2.06 2.06-.94-2.06-.94-.94-2.06-.94 2.06-2.06.94z\"/><path d=\"M17.41 7.96l-1.37-1.37c-.4-.4-.92-.59-1.43-.59-.52 0-1.04.2-1.43.59L10.3 9.45l-7.72 7.72c-.78.78-.78 2.05 0 2.83L4 21.41c.39.39.9.59 1.41.59.51 0 1.02-.2 1.41-.59l7.78-7.78 2.81-2.81c.8-.78.8-2.07 0-2.86zM5.41 20L4 18.59l7.72-7.72 1.47 1.35L5.41 20z\"/>\n",
              "  </svg>\n",
              "      </button>\n",
              "      \n",
              "  <style>\n",
              "    .colab-df-container {\n",
              "      display:flex;\n",
              "      flex-wrap:wrap;\n",
              "      gap: 12px;\n",
              "    }\n",
              "\n",
              "    .colab-df-convert {\n",
              "      background-color: #E8F0FE;\n",
              "      border: none;\n",
              "      border-radius: 50%;\n",
              "      cursor: pointer;\n",
              "      display: none;\n",
              "      fill: #1967D2;\n",
              "      height: 32px;\n",
              "      padding: 0 0 0 0;\n",
              "      width: 32px;\n",
              "    }\n",
              "\n",
              "    .colab-df-convert:hover {\n",
              "      background-color: #E2EBFA;\n",
              "      box-shadow: 0px 1px 2px rgba(60, 64, 67, 0.3), 0px 1px 3px 1px rgba(60, 64, 67, 0.15);\n",
              "      fill: #174EA6;\n",
              "    }\n",
              "\n",
              "    [theme=dark] .colab-df-convert {\n",
              "      background-color: #3B4455;\n",
              "      fill: #D2E3FC;\n",
              "    }\n",
              "\n",
              "    [theme=dark] .colab-df-convert:hover {\n",
              "      background-color: #434B5C;\n",
              "      box-shadow: 0px 1px 3px 1px rgba(0, 0, 0, 0.15);\n",
              "      filter: drop-shadow(0px 1px 2px rgba(0, 0, 0, 0.3));\n",
              "      fill: #FFFFFF;\n",
              "    }\n",
              "  </style>\n",
              "\n",
              "      <script>\n",
              "        const buttonEl =\n",
              "          document.querySelector('#df-9f8015cd-7610-4aac-b3ec-980e35937cd9 button.colab-df-convert');\n",
              "        buttonEl.style.display =\n",
              "          google.colab.kernel.accessAllowed ? 'block' : 'none';\n",
              "\n",
              "        async function convertToInteractive(key) {\n",
              "          const element = document.querySelector('#df-9f8015cd-7610-4aac-b3ec-980e35937cd9');\n",
              "          const dataTable =\n",
              "            await google.colab.kernel.invokeFunction('convertToInteractive',\n",
              "                                                     [key], {});\n",
              "          if (!dataTable) return;\n",
              "\n",
              "          const docLinkHtml = 'Like what you see? Visit the ' +\n",
              "            '<a target=\"_blank\" href=https://colab.research.google.com/notebooks/data_table.ipynb>data table notebook</a>'\n",
              "            + ' to learn more about interactive tables.';\n",
              "          element.innerHTML = '';\n",
              "          dataTable['output_type'] = 'display_data';\n",
              "          await google.colab.output.renderOutput(dataTable, element);\n",
              "          const docLink = document.createElement('div');\n",
              "          docLink.innerHTML = docLinkHtml;\n",
              "          element.appendChild(docLink);\n",
              "        }\n",
              "      </script>\n",
              "    </div>\n",
              "  </div>\n",
              "  "
            ]
          },
          "metadata": {},
          "execution_count": 80
        }
      ]
    },
    {
      "cell_type": "code",
      "source": [
        "countries = spark.createDataFrame([['JP', ' Japan'],['IE', ' Ireland'],['US', ' United-States']], [\"code\", \"country\"])\n",
        "countries.show()"
      ],
      "metadata": {
        "colab": {
          "base_uri": "https://localhost:8080/"
        },
        "id": "vy5k0nQ1HV0Z",
        "outputId": "38fdbdd7-7989-412c-b018-1a9c52fdd90c"
      },
      "execution_count": 81,
      "outputs": [
        {
          "output_type": "stream",
          "name": "stdout",
          "text": [
            "+----+--------------+\n",
            "|code|       country|\n",
            "+----+--------------+\n",
            "|  JP|         Japan|\n",
            "|  IE|       Ireland|\n",
            "|  US| United-States|\n",
            "+----+--------------+\n",
            "\n"
          ]
        }
      ]
    },
    {
      "cell_type": "code",
      "source": [
        "filtered = filtered.join(countries, filtered.native_country == countries.country, 'inner')\n",
        "filtered.show(2)"
      ],
      "metadata": {
        "colab": {
          "base_uri": "https://localhost:8080/"
        },
        "id": "J8CPfUtBH-qN",
        "outputId": "591b29f3-a9de-4c38-e994-c0316bd8f3fe"
      },
      "execution_count": 83,
      "outputs": [
        {
          "output_type": "stream",
          "name": "stdout",
          "text": [
            "+----+---------+--------+----------+-------------+-------------------+----------------+--------------+-------------------+-------+------------+------------+--------------+--------------+------+----+-------+\n",
            "| age|workclass|  fnlwgt| education|education_num|     marital_status|      occupation|  relationship|               race|    sex|capital_gain|capital_loss|hours_per_week|native_country|income|code|country|\n",
            "+----+---------+--------+----------+-------------+-------------------+----------------+--------------+-------------------+-------+------------+------------+--------------+--------------+------+----+-------+\n",
            "|54.0|  Private|337992.0| Bachelors|         13.0| Married-civ-spouse| Exec-managerial|       Husband| Asian-Pac-Islander|   Male|         0.0|         0.0|          50.0|         Japan|  >50K|  JP|  Japan|\n",
            "|40.0|  Private|306225.0|   HS-grad|          9.0|           Divorced|    Craft-repair| Not-in-family| Asian-Pac-Islander| Female|         0.0|         0.0|          40.0|         Japan| <=50K|  JP|  Japan|\n",
            "+----+---------+--------+----------+-------------+-------------------+----------------+--------------+-------------------+-------+------------+------------+--------------+--------------+------+----+-------+\n",
            "only showing top 2 rows\n",
            "\n"
          ]
        }
      ]
    },
    {
      "cell_type": "code",
      "source": [
        "filtered.toPandas().sample(n=5)[['native_country', 'code']].head()"
      ],
      "metadata": {
        "colab": {
          "base_uri": "https://localhost:8080/",
          "height": 206
        },
        "id": "nJblCiIxIT23",
        "outputId": "4f57eff3-193a-4f68-fe77-84efea9548b9"
      },
      "execution_count": 85,
      "outputs": [
        {
          "output_type": "execute_result",
          "data": {
            "text/plain": [
              "   native_country code\n",
              "29          Japan   JP\n",
              "77        Ireland   IE\n",
              "1           Japan   JP\n",
              "11          Japan   JP\n",
              "66        Ireland   IE"
            ],
            "text/html": [
              "\n",
              "  <div id=\"df-3fa518e0-1236-45ac-94ba-2f46a85e5496\">\n",
              "    <div class=\"colab-df-container\">\n",
              "      <div>\n",
              "<style scoped>\n",
              "    .dataframe tbody tr th:only-of-type {\n",
              "        vertical-align: middle;\n",
              "    }\n",
              "\n",
              "    .dataframe tbody tr th {\n",
              "        vertical-align: top;\n",
              "    }\n",
              "\n",
              "    .dataframe thead th {\n",
              "        text-align: right;\n",
              "    }\n",
              "</style>\n",
              "<table border=\"1\" class=\"dataframe\">\n",
              "  <thead>\n",
              "    <tr style=\"text-align: right;\">\n",
              "      <th></th>\n",
              "      <th>native_country</th>\n",
              "      <th>code</th>\n",
              "    </tr>\n",
              "  </thead>\n",
              "  <tbody>\n",
              "    <tr>\n",
              "      <th>29</th>\n",
              "      <td>Japan</td>\n",
              "      <td>JP</td>\n",
              "    </tr>\n",
              "    <tr>\n",
              "      <th>77</th>\n",
              "      <td>Ireland</td>\n",
              "      <td>IE</td>\n",
              "    </tr>\n",
              "    <tr>\n",
              "      <th>1</th>\n",
              "      <td>Japan</td>\n",
              "      <td>JP</td>\n",
              "    </tr>\n",
              "    <tr>\n",
              "      <th>11</th>\n",
              "      <td>Japan</td>\n",
              "      <td>JP</td>\n",
              "    </tr>\n",
              "    <tr>\n",
              "      <th>66</th>\n",
              "      <td>Ireland</td>\n",
              "      <td>IE</td>\n",
              "    </tr>\n",
              "  </tbody>\n",
              "</table>\n",
              "</div>\n",
              "      <button class=\"colab-df-convert\" onclick=\"convertToInteractive('df-3fa518e0-1236-45ac-94ba-2f46a85e5496')\"\n",
              "              title=\"Convert this dataframe to an interactive table.\"\n",
              "              style=\"display:none;\">\n",
              "        \n",
              "  <svg xmlns=\"http://www.w3.org/2000/svg\" height=\"24px\"viewBox=\"0 0 24 24\"\n",
              "       width=\"24px\">\n",
              "    <path d=\"M0 0h24v24H0V0z\" fill=\"none\"/>\n",
              "    <path d=\"M18.56 5.44l.94 2.06.94-2.06 2.06-.94-2.06-.94-.94-2.06-.94 2.06-2.06.94zm-11 1L8.5 8.5l.94-2.06 2.06-.94-2.06-.94L8.5 2.5l-.94 2.06-2.06.94zm10 10l.94 2.06.94-2.06 2.06-.94-2.06-.94-.94-2.06-.94 2.06-2.06.94z\"/><path d=\"M17.41 7.96l-1.37-1.37c-.4-.4-.92-.59-1.43-.59-.52 0-1.04.2-1.43.59L10.3 9.45l-7.72 7.72c-.78.78-.78 2.05 0 2.83L4 21.41c.39.39.9.59 1.41.59.51 0 1.02-.2 1.41-.59l7.78-7.78 2.81-2.81c.8-.78.8-2.07 0-2.86zM5.41 20L4 18.59l7.72-7.72 1.47 1.35L5.41 20z\"/>\n",
              "  </svg>\n",
              "      </button>\n",
              "      \n",
              "  <style>\n",
              "    .colab-df-container {\n",
              "      display:flex;\n",
              "      flex-wrap:wrap;\n",
              "      gap: 12px;\n",
              "    }\n",
              "\n",
              "    .colab-df-convert {\n",
              "      background-color: #E8F0FE;\n",
              "      border: none;\n",
              "      border-radius: 50%;\n",
              "      cursor: pointer;\n",
              "      display: none;\n",
              "      fill: #1967D2;\n",
              "      height: 32px;\n",
              "      padding: 0 0 0 0;\n",
              "      width: 32px;\n",
              "    }\n",
              "\n",
              "    .colab-df-convert:hover {\n",
              "      background-color: #E2EBFA;\n",
              "      box-shadow: 0px 1px 2px rgba(60, 64, 67, 0.3), 0px 1px 3px 1px rgba(60, 64, 67, 0.15);\n",
              "      fill: #174EA6;\n",
              "    }\n",
              "\n",
              "    [theme=dark] .colab-df-convert {\n",
              "      background-color: #3B4455;\n",
              "      fill: #D2E3FC;\n",
              "    }\n",
              "\n",
              "    [theme=dark] .colab-df-convert:hover {\n",
              "      background-color: #434B5C;\n",
              "      box-shadow: 0px 1px 3px 1px rgba(0, 0, 0, 0.15);\n",
              "      filter: drop-shadow(0px 1px 2px rgba(0, 0, 0, 0.3));\n",
              "      fill: #FFFFFF;\n",
              "    }\n",
              "  </style>\n",
              "\n",
              "      <script>\n",
              "        const buttonEl =\n",
              "          document.querySelector('#df-3fa518e0-1236-45ac-94ba-2f46a85e5496 button.colab-df-convert');\n",
              "        buttonEl.style.display =\n",
              "          google.colab.kernel.accessAllowed ? 'block' : 'none';\n",
              "\n",
              "        async function convertToInteractive(key) {\n",
              "          const element = document.querySelector('#df-3fa518e0-1236-45ac-94ba-2f46a85e5496');\n",
              "          const dataTable =\n",
              "            await google.colab.kernel.invokeFunction('convertToInteractive',\n",
              "                                                     [key], {});\n",
              "          if (!dataTable) return;\n",
              "\n",
              "          const docLinkHtml = 'Like what you see? Visit the ' +\n",
              "            '<a target=\"_blank\" href=https://colab.research.google.com/notebooks/data_table.ipynb>data table notebook</a>'\n",
              "            + ' to learn more about interactive tables.';\n",
              "          element.innerHTML = '';\n",
              "          dataTable['output_type'] = 'display_data';\n",
              "          await google.colab.output.renderOutput(dataTable, element);\n",
              "          const docLink = document.createElement('div');\n",
              "          docLink.innerHTML = docLinkHtml;\n",
              "          element.appendChild(docLink);\n",
              "        }\n",
              "      </script>\n",
              "    </div>\n",
              "  </div>\n",
              "  "
            ]
          },
          "metadata": {},
          "execution_count": 85
        }
      ]
    },
    {
      "cell_type": "markdown",
      "source": [
        "### Use SQL to display the first 5 rows of the data"
      ],
      "metadata": {
        "id": "HqSeWPA6YRlJ"
      }
    },
    {
      "cell_type": "code",
      "source": [
        "dataset.createOrReplaceTempView(\"table\")"
      ],
      "metadata": {
        "id": "bNWY5XxVIbFk"
      },
      "execution_count": 86,
      "outputs": []
    },
    {
      "cell_type": "code",
      "source": [
        "spark.sql(\"select * from table limit 5\").show()"
      ],
      "metadata": {
        "colab": {
          "base_uri": "https://localhost:8080/"
        },
        "id": "YqOwVWQLImIN",
        "outputId": "c905b923-6465-4671-fcce-9b99cb683462"
      },
      "execution_count": 87,
      "outputs": [
        {
          "output_type": "stream",
          "name": "stdout",
          "text": [
            "+----+-----------------+--------+----------+-------------+-------------------+------------------+--------------+------+-------+------------+------------+--------------+--------------+------+\n",
            "| age|        workclass|  fnlwgt| education|education_num|     marital_status|        occupation|  relationship|  race|    sex|capital_gain|capital_loss|hours_per_week|native_country|income|\n",
            "+----+-----------------+--------+----------+-------------+-------------------+------------------+--------------+------+-------+------------+------------+--------------+--------------+------+\n",
            "|39.0|        State-gov| 77516.0| Bachelors|         13.0|      Never-married|      Adm-clerical| Not-in-family| White|   Male|      2174.0|         0.0|          40.0| United-States| <=50K|\n",
            "|50.0| Self-emp-not-inc| 83311.0| Bachelors|         13.0| Married-civ-spouse|   Exec-managerial|       Husband| White|   Male|         0.0|         0.0|          13.0| United-States| <=50K|\n",
            "|38.0|          Private|215646.0|   HS-grad|          9.0|           Divorced| Handlers-cleaners| Not-in-family| White|   Male|         0.0|         0.0|          40.0| United-States| <=50K|\n",
            "|53.0|          Private|234721.0|      11th|          7.0| Married-civ-spouse| Handlers-cleaners|       Husband| Black|   Male|         0.0|         0.0|          40.0| United-States| <=50K|\n",
            "|28.0|          Private|338409.0| Bachelors|         13.0| Married-civ-spouse|    Prof-specialty|          Wife| Black| Female|         0.0|         0.0|          40.0|          Cuba| <=50K|\n",
            "+----+-----------------+--------+----------+-------------+-------------------+------------------+--------------+------+-------+------------+------------+--------------+--------------+------+\n",
            "\n"
          ]
        }
      ]
    },
    {
      "cell_type": "markdown",
      "source": [
        "### Use SQL to get the average weekly work hours by eduction for those making $50k or less"
      ],
      "metadata": {
        "id": "bjqldaONYVVh"
      }
    },
    {
      "cell_type": "code",
      "source": [
        "q = \"\"\"\n",
        "select education, avg(hours_per_week) as avg_hours\n",
        "from table\n",
        "where income = ' <=50K'\n",
        "group by education\n",
        "order by avg_hours desc\n",
        "\"\"\"\n",
        "\n",
        "spark.sql(q).show()"
      ],
      "metadata": {
        "colab": {
          "base_uri": "https://localhost:8080/"
        },
        "id": "BvZrPM4wIpKR",
        "outputId": "aa88f81b-0d8f-4d00-b8e2-bfe719e76dca"
      },
      "execution_count": 89,
      "outputs": [
        {
          "output_type": "stream",
          "name": "stdout",
          "text": [
            "+-------------+------------------+\n",
            "|    education|         avg_hours|\n",
            "+-------------+------------------+\n",
            "|    Doctorate|45.429906542056074|\n",
            "|  Prof-school| 42.81699346405229|\n",
            "|      Masters|41.223821989528794|\n",
            "|    Assoc-voc| 40.81782566111655|\n",
            "|    Bachelors| 40.58615188257817|\n",
            "|      HS-grad| 39.72750963063675|\n",
            "|   Assoc-acdm|  39.2643391521197|\n",
            "|      7th-8th| 38.83003300330033|\n",
            "|      5th-6th| 38.53943217665615|\n",
            "|      1st-4th|37.864197530864196|\n",
            "|          9th|37.667351129363446|\n",
            "| Some-college| 37.45020325203252|\n",
            "|    Preschool| 36.64705882352941|\n",
            "|         10th| 36.57405281285878|\n",
            "|         12th|            35.035|\n",
            "|         11th| 33.32286995515695|\n",
            "+-------------+------------------+\n",
            "\n"
          ]
        }
      ]
    },
    {
      "cell_type": "markdown",
      "source": [
        "# Dataset preperation"
      ],
      "metadata": {
        "id": "80BLTbxvYdwf"
      }
    },
    {
      "cell_type": "code",
      "source": [
        "from pyspark.sql.functions import isnan, when, count, col"
      ],
      "metadata": {
        "id": "fqQHB1QHJDi_"
      },
      "execution_count": 90,
      "outputs": []
    },
    {
      "cell_type": "markdown",
      "source": [
        "### View the null values"
      ],
      "metadata": {
        "id": "68Q00dYDZd-y"
      }
    },
    {
      "cell_type": "code",
      "source": [
        "dataset.select([count(when(isnan(c) | col(c).isNull(), c)).alias(c) for c in dataset.columns]).show()"
      ],
      "metadata": {
        "colab": {
          "base_uri": "https://localhost:8080/"
        },
        "id": "M0Fg6KrUJ2lC",
        "outputId": "6ef03d04-9cc9-4534-b65d-7a191dfdff68"
      },
      "execution_count": 92,
      "outputs": [
        {
          "output_type": "stream",
          "name": "stdout",
          "text": [
            "+---+---------+------+---------+-------------+--------------+----------+------------+----+---+------------+------------+--------------+--------------+------+\n",
            "|age|workclass|fnlwgt|education|education_num|marital_status|occupation|relationship|race|sex|capital_gain|capital_loss|hours_per_week|native_country|income|\n",
            "+---+---------+------+---------+-------------+--------------+----------+------------+----+---+------------+------------+--------------+--------------+------+\n",
            "|  0|        0|     0|        0|            0|             0|         0|           0|   0|  0|           0|           0|             0|             0|     0|\n",
            "+---+---------+------+---------+-------------+--------------+----------+------------+----+---+------------+------------+--------------+--------------+------+\n",
            "\n"
          ]
        }
      ]
    },
    {
      "cell_type": "markdown",
      "source": [
        "### No null values, but missing values appear to be marked as '?'."
      ],
      "metadata": {
        "id": "H8vGsXX7ZgAW"
      }
    },
    {
      "cell_type": "code",
      "source": [
        "dataset.where(dataset.occupation.like('%?%')).count()"
      ],
      "metadata": {
        "colab": {
          "base_uri": "https://localhost:8080/"
        },
        "id": "1rALTWmrLJZM",
        "outputId": "4cb4a169-3e9c-4989-e729-77fd81db2a1e"
      },
      "execution_count": 96,
      "outputs": [
        {
          "output_type": "execute_result",
          "data": {
            "text/plain": [
              "1843"
            ]
          },
          "metadata": {},
          "execution_count": 96
        }
      ]
    },
    {
      "cell_type": "code",
      "source": [
        "dataset.select([count(when(col(c).like('%?%'), c)).alias(c) for c in dataset.columns]).show()"
      ],
      "metadata": {
        "colab": {
          "base_uri": "https://localhost:8080/"
        },
        "id": "AH1z2EHCLYw-",
        "outputId": "b945ac39-bc50-4ad9-b4e7-49b1d60ecc6b"
      },
      "execution_count": 103,
      "outputs": [
        {
          "output_type": "stream",
          "name": "stdout",
          "text": [
            "+---+---------+------+---------+-------------+--------------+----------+------------+----+---+------------+------------+--------------+--------------+------+\n",
            "|age|workclass|fnlwgt|education|education_num|marital_status|occupation|relationship|race|sex|capital_gain|capital_loss|hours_per_week|native_country|income|\n",
            "+---+---------+------+---------+-------------+--------------+----------+------------+----+---+------------+------------+--------------+--------------+------+\n",
            "|  0|     1836|     0|        0|            0|             0|      1843|           0|   0|  0|           0|           0|             0|           583|     0|\n",
            "+---+---------+------+---------+-------------+--------------+----------+------------+----+---+------------+------------+--------------+--------------+------+\n",
            "\n"
          ]
        }
      ]
    },
    {
      "cell_type": "markdown",
      "source": [
        "### Lots of missing values in workclass and occupation. We will filter out those rows and only include rows from the US."
      ],
      "metadata": {
        "id": "XlGD9SRWZpE7"
      }
    },
    {
      "cell_type": "code",
      "source": [
        "usa = dataset.filter(dataset.native_country==' United-States')\n",
        "\n",
        "usa.select([count(when(col(c).like('%?%'), c)).alias(c) for c in usa.columns]).show()"
      ],
      "metadata": {
        "colab": {
          "base_uri": "https://localhost:8080/"
        },
        "id": "aOT3qPdKKUpz",
        "outputId": "86c93ffb-7231-4116-91c8-1e83c7877b42"
      },
      "execution_count": 111,
      "outputs": [
        {
          "output_type": "stream",
          "name": "stdout",
          "text": [
            "+---+---------+------+---------+-------------+--------------+----------+------------+----+---+------------+------------+--------------+--------------+------+\n",
            "|age|workclass|fnlwgt|education|education_num|marital_status|occupation|relationship|race|sex|capital_gain|capital_loss|hours_per_week|native_country|income|\n",
            "+---+---------+------+---------+-------------+--------------+----------+------------+----+---+------------+------------+--------------+--------------+------+\n",
            "|  0|     1659|     0|        0|            0|             0|      1666|           0|   0|  0|           0|           0|             0|             0|     0|\n",
            "+---+---------+------+---------+-------------+--------------+----------+------------+----+---+------------+------------+--------------+--------------+------+\n",
            "\n"
          ]
        }
      ]
    },
    {
      "cell_type": "code",
      "source": [
        "usa.select('workclass').distinct()"
      ],
      "metadata": {
        "colab": {
          "base_uri": "https://localhost:8080/",
          "height": 255
        },
        "id": "fd6XLL-YMs9c",
        "outputId": "b7e45ad7-8cf5-409d-d970-866220972643"
      },
      "execution_count": 112,
      "outputs": [
        {
          "output_type": "execute_result",
          "data": {
            "text/plain": [
              "+-----------------+\n",
              "|        workclass|\n",
              "+-----------------+\n",
              "|        State-gov|\n",
              "|      Federal-gov|\n",
              "| Self-emp-not-inc|\n",
              "|        Local-gov|\n",
              "|          Private|\n",
              "|                ?|\n",
              "|     Self-emp-inc|\n",
              "|      Without-pay|\n",
              "|     Never-worked|\n",
              "+-----------------+"
            ],
            "text/html": [
              "<table border='1'>\n",
              "<tr><th>workclass</th></tr>\n",
              "<tr><td> State-gov</td></tr>\n",
              "<tr><td> Federal-gov</td></tr>\n",
              "<tr><td> Self-emp-not-inc</td></tr>\n",
              "<tr><td> Local-gov</td></tr>\n",
              "<tr><td> Private</td></tr>\n",
              "<tr><td> ?</td></tr>\n",
              "<tr><td> Self-emp-inc</td></tr>\n",
              "<tr><td> Without-pay</td></tr>\n",
              "<tr><td> Never-worked</td></tr>\n",
              "</table>\n"
            ]
          },
          "metadata": {},
          "execution_count": 112
        }
      ]
    },
    {
      "cell_type": "code",
      "source": [
        "usa.select('occupation').distinct()"
      ],
      "metadata": {
        "colab": {
          "base_uri": "https://localhost:8080/",
          "height": 395
        },
        "id": "LEWLeOS3NBVF",
        "outputId": "0f886d50-7ed8-4e95-9efc-2c9f8fe7da47"
      },
      "execution_count": 113,
      "outputs": [
        {
          "output_type": "execute_result",
          "data": {
            "text/plain": [
              "+------------------+\n",
              "|        occupation|\n",
              "+------------------+\n",
              "|   Farming-fishing|\n",
              "| Handlers-cleaners|\n",
              "|    Prof-specialty|\n",
              "|      Adm-clerical|\n",
              "|   Exec-managerial|\n",
              "|      Craft-repair|\n",
              "|             Sales|\n",
              "|                 ?|\n",
              "|      Tech-support|\n",
              "|  Transport-moving|\n",
              "|   Protective-serv|\n",
              "|      Armed-Forces|\n",
              "| Machine-op-inspct|\n",
              "|     Other-service|\n",
              "|   Priv-house-serv|\n",
              "+------------------+"
            ],
            "text/html": [
              "<table border='1'>\n",
              "<tr><th>occupation</th></tr>\n",
              "<tr><td> Farming-fishing</td></tr>\n",
              "<tr><td> Handlers-cleaners</td></tr>\n",
              "<tr><td> Prof-specialty</td></tr>\n",
              "<tr><td> Adm-clerical</td></tr>\n",
              "<tr><td> Exec-managerial</td></tr>\n",
              "<tr><td> Craft-repair</td></tr>\n",
              "<tr><td> Sales</td></tr>\n",
              "<tr><td> ?</td></tr>\n",
              "<tr><td> Tech-support</td></tr>\n",
              "<tr><td> Transport-moving</td></tr>\n",
              "<tr><td> Protective-serv</td></tr>\n",
              "<tr><td> Armed-Forces</td></tr>\n",
              "<tr><td> Machine-op-inspct</td></tr>\n",
              "<tr><td> Other-service</td></tr>\n",
              "<tr><td> Priv-house-serv</td></tr>\n",
              "</table>\n"
            ]
          },
          "metadata": {},
          "execution_count": 113
        }
      ]
    },
    {
      "cell_type": "code",
      "source": [
        "usa = usa.filter(~ (col('occupation').like('%?%') | col('workclass').like('%?%')))\n",
        "\n",
        "usa.select([count(when(col(c).like('%?%'), c)).alias(c) for c in usa.columns]).show()"
      ],
      "metadata": {
        "colab": {
          "base_uri": "https://localhost:8080/"
        },
        "id": "2SNbgeGXNHZB",
        "outputId": "a41e21d7-8843-48e9-a7d1-da8066e5af2d"
      },
      "execution_count": 115,
      "outputs": [
        {
          "output_type": "stream",
          "name": "stdout",
          "text": [
            "+---+---------+------+---------+-------------+--------------+----------+------------+----+---+------------+------------+--------------+--------------+------+\n",
            "|age|workclass|fnlwgt|education|education_num|marital_status|occupation|relationship|race|sex|capital_gain|capital_loss|hours_per_week|native_country|income|\n",
            "+---+---------+------+---------+-------------+--------------+----------+------------+----+---+------------+------------+--------------+--------------+------+\n",
            "|  0|        0|     0|        0|            0|             0|         0|           0|   0|  0|           0|           0|             0|             0|     0|\n",
            "+---+---------+------+---------+-------------+--------------+----------+------------+----+---+------------+------------+--------------+--------------+------+\n",
            "\n"
          ]
        }
      ]
    },
    {
      "cell_type": "markdown",
      "source": [
        "# Build ML pipeline"
      ],
      "metadata": {
        "id": "lwxghxmPZzBe"
      }
    },
    {
      "cell_type": "code",
      "source": [
        "from pyspark.ml import Pipeline\n",
        "from pyspark.ml.feature import StringIndexer, VectorAssembler, OneHotEncoder"
      ],
      "metadata": {
        "id": "vr9Qs2L4Ny6w"
      },
      "execution_count": 120,
      "outputs": []
    },
    {
      "cell_type": "code",
      "source": [
        "categoricalColumns = [\"workclass\", \"education\", \"marital_status\", \"occupation\", \"relationship\", \"race\", \"sex\"]\n",
        "numericCols = [\"age\", \"fnlwgt\", \"education_num\", \"capital_gain\", \"capital_loss\", \"hours_per_week\"]\n",
        "target = \"income\""
      ],
      "metadata": {
        "id": "Axw5bNblPDgJ"
      },
      "execution_count": 135,
      "outputs": []
    },
    {
      "cell_type": "code",
      "source": [
        "stages = []"
      ],
      "metadata": {
        "id": "ShU1LZH4PKwz"
      },
      "execution_count": 136,
      "outputs": []
    },
    {
      "cell_type": "code",
      "source": [
        "stages = [] # stages in Pipeline\n",
        "\n",
        "for categoricalCol in categoricalColumns:\n",
        "    stringIndexer = StringIndexer(inputCol=categoricalCol, outputCol=categoricalCol + \"Index\")\n",
        "\n",
        "    encoder = OneHotEncoder(inputCols=[stringIndexer.getOutputCol()], outputCols=[categoricalCol + \"classVec\"])\n",
        "\n",
        "    stages += [stringIndexer, encoder]"
      ],
      "metadata": {
        "id": "62HFNjciPbTh"
      },
      "execution_count": 137,
      "outputs": []
    },
    {
      "cell_type": "code",
      "source": [
        "label_stringIdx = StringIndexer(inputCol=target, outputCol=\"label\")\n",
        "stages += [label_stringIdx]"
      ],
      "metadata": {
        "id": "ISDg5EYFPmPL"
      },
      "execution_count": 138,
      "outputs": []
    },
    {
      "cell_type": "code",
      "source": [
        "\n",
        "numericCols = [\"age\", \"fnlwgt\", \"education_num\", \"capital_gain\", \"capital_loss\", \"hours_per_week\"]\n",
        "assemblerInputs = [c + \"classVec\" for c in categoricalColumns] + numericCols\n",
        "assembler = VectorAssembler(inputCols=assemblerInputs, outputCol=\"features\")\n",
        "stages += [assembler]"
      ],
      "metadata": {
        "id": "0MDADHCwPrxi"
      },
      "execution_count": 139,
      "outputs": []
    },
    {
      "cell_type": "code",
      "source": [
        "stages"
      ],
      "metadata": {
        "colab": {
          "base_uri": "https://localhost:8080/"
        },
        "id": "WgBNjixsPv87",
        "outputId": "21ce8cdb-6918-4217-e16f-805bb771eecd"
      },
      "execution_count": 140,
      "outputs": [
        {
          "output_type": "execute_result",
          "data": {
            "text/plain": [
              "[StringIndexer_f292e844f947,\n",
              " OneHotEncoder_308f19a5d9c9,\n",
              " StringIndexer_07887f4eb01f,\n",
              " OneHotEncoder_269689c60c1e,\n",
              " StringIndexer_8120e62f1646,\n",
              " OneHotEncoder_39b16f6e895d,\n",
              " StringIndexer_8a75eb483530,\n",
              " OneHotEncoder_d55872d6346b,\n",
              " StringIndexer_5669472e8d9a,\n",
              " OneHotEncoder_19643a8f177a,\n",
              " StringIndexer_20f8ee0a937f,\n",
              " OneHotEncoder_aa0d63fb8fe3,\n",
              " StringIndexer_ebb1a57f7f72,\n",
              " OneHotEncoder_37b1dfaac704,\n",
              " StringIndexer_c74b627df441,\n",
              " VectorAssembler_8d9530eb32d5]"
            ]
          },
          "metadata": {},
          "execution_count": 140
        }
      ]
    },
    {
      "cell_type": "code",
      "source": [
        "partialPipeline = Pipeline().setStages(stages)\n",
        "pipelineModel = partialPipeline.fit(usa)\n",
        "preppedDataDF = pipelineModel.transform(usa)"
      ],
      "metadata": {
        "id": "Gi15PfhRQfM8"
      },
      "execution_count": 141,
      "outputs": []
    },
    {
      "cell_type": "code",
      "source": [
        "selectedcols = [\"label\", \"features\"] + usa.columns\n",
        "dataset2 = preppedDataDF.select(selectedcols)\n",
        "display(dataset2)"
      ],
      "metadata": {
        "colab": {
          "base_uri": "https://localhost:8080/",
          "height": 529
        },
        "id": "w8d1EJCMQXks",
        "outputId": "4150d9a4-40e2-4840-ab2c-22f015b80361"
      },
      "execution_count": 142,
      "outputs": [
        {
          "output_type": "display_data",
          "data": {
            "text/plain": [
              "+-----+--------------------+----+-----------------+--------+-------------+-------------+-------------------+------------------+--------------+------+-------+------------+------------+--------------+--------------+------+\n",
              "|label|            features| age|        workclass|  fnlwgt|    education|education_num|     marital_status|        occupation|  relationship|  race|    sex|capital_gain|capital_loss|hours_per_week|native_country|income|\n",
              "+-----+--------------------+----+-----------------+--------+-------------+-------------+-------------------+------------------+--------------+------+-------+------------+------------+--------------+--------------+------+\n",
              "|  0.0|(56,[3,8,22,30,41...|39.0|        State-gov| 77516.0|    Bachelors|         13.0|      Never-married|      Adm-clerical| Not-in-family| White|   Male|      2174.0|         0.0|          40.0| United-States| <=50K|\n",
              "|  0.0|(56,[1,8,21,27,40...|50.0| Self-emp-not-inc| 83311.0|    Bachelors|         13.0| Married-civ-spouse|   Exec-managerial|       Husband| White|   Male|         0.0|         0.0|          13.0| United-States| <=50K|\n",
              "|  0.0|(56,[0,6,23,35,41...|38.0|          Private|215646.0|      HS-grad|          9.0|           Divorced| Handlers-cleaners| Not-in-family| White|   Male|         0.0|         0.0|          40.0| United-States| <=50K|\n",
              "|  0.0|(56,[0,11,21,35,4...|53.0|          Private|234721.0|         11th|          7.0| Married-civ-spouse| Handlers-cleaners|       Husband| Black|   Male|         0.0|         0.0|          40.0| United-States| <=50K|\n",
              "|  0.0|(56,[0,9,21,27,44...|37.0|          Private|284582.0|      Masters|         14.0| Married-civ-spouse|   Exec-managerial|          Wife| White| Female|         0.0|         0.0|          40.0| United-States| <=50K|\n",
              "|  1.0|(56,[1,6,21,27,40...|52.0| Self-emp-not-inc|209642.0|      HS-grad|          9.0| Married-civ-spouse|   Exec-managerial|       Husband| White|   Male|         0.0|         0.0|          45.0| United-States|  >50K|\n",
              "|  1.0|(56,[0,9,22,28,41...|31.0|          Private| 45781.0|      Masters|         14.0|      Never-married|    Prof-specialty| Not-in-family| White| Female|     14084.0|         0.0|          50.0| United-States|  >50K|\n",
              "|  1.0|(56,[0,8,21,27,40...|42.0|          Private|159449.0|    Bachelors|         13.0| Married-civ-spouse|   Exec-managerial|       Husband| White|   Male|      5178.0|         0.0|          40.0| United-States|  >50K|\n",
              "|  1.0|(56,[0,7,21,27,40...|37.0|          Private|280464.0| Some-college|         10.0| Married-civ-spouse|   Exec-managerial|       Husband| Black|   Male|         0.0|         0.0|          80.0| United-States|  >50K|\n",
              "|  0.0|(56,[0,8,22,30,42...|23.0|          Private|122272.0|    Bachelors|         13.0|      Never-married|      Adm-clerical|     Own-child| White| Female|         0.0|         0.0|          30.0| United-States| <=50K|\n",
              "|  0.0|(56,[0,12,22,31,4...|32.0|          Private|205019.0|   Assoc-acdm|         12.0|      Never-married|             Sales| Not-in-family| Black|   Male|         0.0|         0.0|          50.0| United-States| <=50K|\n",
              "|  0.0|(56,[1,6,22,36,42...|25.0| Self-emp-not-inc|176756.0|      HS-grad|          9.0|      Never-married|   Farming-fishing|     Own-child| White|   Male|         0.0|         0.0|          35.0| United-States| <=50K|\n",
              "|  0.0|(56,[0,6,22,33,43...|32.0|          Private|186824.0|      HS-grad|          9.0|      Never-married| Machine-op-inspct|     Unmarried| White|   Male|         0.0|         0.0|          40.0| United-States| <=50K|\n",
              "|  0.0|(56,[0,11,21,31,4...|38.0|          Private| 28887.0|         11th|          7.0| Married-civ-spouse|             Sales|       Husband| White|   Male|         0.0|         0.0|          50.0| United-States| <=50K|\n",
              "|  1.0|(56,[1,9,23,27,43...|43.0| Self-emp-not-inc|292175.0|      Masters|         14.0|           Divorced|   Exec-managerial|     Unmarried| White| Female|         0.0|         0.0|          45.0| United-States|  >50K|\n",
              "|  1.0|(56,[0,18,21,28,4...|40.0|          Private|193524.0|    Doctorate|         16.0| Married-civ-spouse|    Prof-specialty|       Husband| White|   Male|         0.0|         0.0|          60.0| United-States|  >50K|\n",
              "|  0.0|(56,[0,6,24,32,43...|54.0|          Private|302146.0|      HS-grad|          9.0|          Separated|     Other-service|     Unmarried| Black| Female|         0.0|         0.0|          20.0| United-States| <=50K|\n",
              "|  0.0|(56,[5,16,21,36,4...|35.0|      Federal-gov| 76845.0|          9th|          5.0| Married-civ-spouse|   Farming-fishing|       Husband| Black|   Male|         0.0|         0.0|          40.0| United-States| <=50K|\n",
              "|  0.0|(56,[0,11,21,34,4...|43.0|          Private|117037.0|         11th|          7.0| Married-civ-spouse|  Transport-moving|       Husband| White|   Male|         0.0|      2042.0|          40.0| United-States| <=50K|\n",
              "|  0.0|(56,[0,6,23,37,43...|59.0|          Private|109015.0|      HS-grad|          9.0|           Divorced|      Tech-support|     Unmarried| White| Female|         0.0|         0.0|          40.0| United-States| <=50K|\n",
              "+-----+--------------------+----+-----------------+--------+-------------+-------------+-------------------+------------------+--------------+------+-------+------------+------------+--------------+--------------+------+\n",
              "only showing top 20 rows"
            ],
            "text/html": [
              "<table border='1'>\n",
              "<tr><th>label</th><th>features</th><th>age</th><th>workclass</th><th>fnlwgt</th><th>education</th><th>education_num</th><th>marital_status</th><th>occupation</th><th>relationship</th><th>race</th><th>sex</th><th>capital_gain</th><th>capital_loss</th><th>hours_per_week</th><th>native_country</th><th>income</th></tr>\n",
              "<tr><td>0.0</td><td>(56,[3,8,22,30,41...</td><td>39.0</td><td> State-gov</td><td>77516.0</td><td> Bachelors</td><td>13.0</td><td> Never-married</td><td> Adm-clerical</td><td> Not-in-family</td><td> White</td><td> Male</td><td>2174.0</td><td>0.0</td><td>40.0</td><td> United-States</td><td> &lt;=50K</td></tr>\n",
              "<tr><td>0.0</td><td>(56,[1,8,21,27,40...</td><td>50.0</td><td> Self-emp-not-inc</td><td>83311.0</td><td> Bachelors</td><td>13.0</td><td> Married-civ-spouse</td><td> Exec-managerial</td><td> Husband</td><td> White</td><td> Male</td><td>0.0</td><td>0.0</td><td>13.0</td><td> United-States</td><td> &lt;=50K</td></tr>\n",
              "<tr><td>0.0</td><td>(56,[0,6,23,35,41...</td><td>38.0</td><td> Private</td><td>215646.0</td><td> HS-grad</td><td>9.0</td><td> Divorced</td><td> Handlers-cleaners</td><td> Not-in-family</td><td> White</td><td> Male</td><td>0.0</td><td>0.0</td><td>40.0</td><td> United-States</td><td> &lt;=50K</td></tr>\n",
              "<tr><td>0.0</td><td>(56,[0,11,21,35,4...</td><td>53.0</td><td> Private</td><td>234721.0</td><td> 11th</td><td>7.0</td><td> Married-civ-spouse</td><td> Handlers-cleaners</td><td> Husband</td><td> Black</td><td> Male</td><td>0.0</td><td>0.0</td><td>40.0</td><td> United-States</td><td> &lt;=50K</td></tr>\n",
              "<tr><td>0.0</td><td>(56,[0,9,21,27,44...</td><td>37.0</td><td> Private</td><td>284582.0</td><td> Masters</td><td>14.0</td><td> Married-civ-spouse</td><td> Exec-managerial</td><td> Wife</td><td> White</td><td> Female</td><td>0.0</td><td>0.0</td><td>40.0</td><td> United-States</td><td> &lt;=50K</td></tr>\n",
              "<tr><td>1.0</td><td>(56,[1,6,21,27,40...</td><td>52.0</td><td> Self-emp-not-inc</td><td>209642.0</td><td> HS-grad</td><td>9.0</td><td> Married-civ-spouse</td><td> Exec-managerial</td><td> Husband</td><td> White</td><td> Male</td><td>0.0</td><td>0.0</td><td>45.0</td><td> United-States</td><td> &gt;50K</td></tr>\n",
              "<tr><td>1.0</td><td>(56,[0,9,22,28,41...</td><td>31.0</td><td> Private</td><td>45781.0</td><td> Masters</td><td>14.0</td><td> Never-married</td><td> Prof-specialty</td><td> Not-in-family</td><td> White</td><td> Female</td><td>14084.0</td><td>0.0</td><td>50.0</td><td> United-States</td><td> &gt;50K</td></tr>\n",
              "<tr><td>1.0</td><td>(56,[0,8,21,27,40...</td><td>42.0</td><td> Private</td><td>159449.0</td><td> Bachelors</td><td>13.0</td><td> Married-civ-spouse</td><td> Exec-managerial</td><td> Husband</td><td> White</td><td> Male</td><td>5178.0</td><td>0.0</td><td>40.0</td><td> United-States</td><td> &gt;50K</td></tr>\n",
              "<tr><td>1.0</td><td>(56,[0,7,21,27,40...</td><td>37.0</td><td> Private</td><td>280464.0</td><td> Some-college</td><td>10.0</td><td> Married-civ-spouse</td><td> Exec-managerial</td><td> Husband</td><td> Black</td><td> Male</td><td>0.0</td><td>0.0</td><td>80.0</td><td> United-States</td><td> &gt;50K</td></tr>\n",
              "<tr><td>0.0</td><td>(56,[0,8,22,30,42...</td><td>23.0</td><td> Private</td><td>122272.0</td><td> Bachelors</td><td>13.0</td><td> Never-married</td><td> Adm-clerical</td><td> Own-child</td><td> White</td><td> Female</td><td>0.0</td><td>0.0</td><td>30.0</td><td> United-States</td><td> &lt;=50K</td></tr>\n",
              "<tr><td>0.0</td><td>(56,[0,12,22,31,4...</td><td>32.0</td><td> Private</td><td>205019.0</td><td> Assoc-acdm</td><td>12.0</td><td> Never-married</td><td> Sales</td><td> Not-in-family</td><td> Black</td><td> Male</td><td>0.0</td><td>0.0</td><td>50.0</td><td> United-States</td><td> &lt;=50K</td></tr>\n",
              "<tr><td>0.0</td><td>(56,[1,6,22,36,42...</td><td>25.0</td><td> Self-emp-not-inc</td><td>176756.0</td><td> HS-grad</td><td>9.0</td><td> Never-married</td><td> Farming-fishing</td><td> Own-child</td><td> White</td><td> Male</td><td>0.0</td><td>0.0</td><td>35.0</td><td> United-States</td><td> &lt;=50K</td></tr>\n",
              "<tr><td>0.0</td><td>(56,[0,6,22,33,43...</td><td>32.0</td><td> Private</td><td>186824.0</td><td> HS-grad</td><td>9.0</td><td> Never-married</td><td> Machine-op-inspct</td><td> Unmarried</td><td> White</td><td> Male</td><td>0.0</td><td>0.0</td><td>40.0</td><td> United-States</td><td> &lt;=50K</td></tr>\n",
              "<tr><td>0.0</td><td>(56,[0,11,21,31,4...</td><td>38.0</td><td> Private</td><td>28887.0</td><td> 11th</td><td>7.0</td><td> Married-civ-spouse</td><td> Sales</td><td> Husband</td><td> White</td><td> Male</td><td>0.0</td><td>0.0</td><td>50.0</td><td> United-States</td><td> &lt;=50K</td></tr>\n",
              "<tr><td>1.0</td><td>(56,[1,9,23,27,43...</td><td>43.0</td><td> Self-emp-not-inc</td><td>292175.0</td><td> Masters</td><td>14.0</td><td> Divorced</td><td> Exec-managerial</td><td> Unmarried</td><td> White</td><td> Female</td><td>0.0</td><td>0.0</td><td>45.0</td><td> United-States</td><td> &gt;50K</td></tr>\n",
              "<tr><td>1.0</td><td>(56,[0,18,21,28,4...</td><td>40.0</td><td> Private</td><td>193524.0</td><td> Doctorate</td><td>16.0</td><td> Married-civ-spouse</td><td> Prof-specialty</td><td> Husband</td><td> White</td><td> Male</td><td>0.0</td><td>0.0</td><td>60.0</td><td> United-States</td><td> &gt;50K</td></tr>\n",
              "<tr><td>0.0</td><td>(56,[0,6,24,32,43...</td><td>54.0</td><td> Private</td><td>302146.0</td><td> HS-grad</td><td>9.0</td><td> Separated</td><td> Other-service</td><td> Unmarried</td><td> Black</td><td> Female</td><td>0.0</td><td>0.0</td><td>20.0</td><td> United-States</td><td> &lt;=50K</td></tr>\n",
              "<tr><td>0.0</td><td>(56,[5,16,21,36,4...</td><td>35.0</td><td> Federal-gov</td><td>76845.0</td><td> 9th</td><td>5.0</td><td> Married-civ-spouse</td><td> Farming-fishing</td><td> Husband</td><td> Black</td><td> Male</td><td>0.0</td><td>0.0</td><td>40.0</td><td> United-States</td><td> &lt;=50K</td></tr>\n",
              "<tr><td>0.0</td><td>(56,[0,11,21,34,4...</td><td>43.0</td><td> Private</td><td>117037.0</td><td> 11th</td><td>7.0</td><td> Married-civ-spouse</td><td> Transport-moving</td><td> Husband</td><td> White</td><td> Male</td><td>0.0</td><td>2042.0</td><td>40.0</td><td> United-States</td><td> &lt;=50K</td></tr>\n",
              "<tr><td>0.0</td><td>(56,[0,6,23,37,43...</td><td>59.0</td><td> Private</td><td>109015.0</td><td> HS-grad</td><td>9.0</td><td> Divorced</td><td> Tech-support</td><td> Unmarried</td><td> White</td><td> Female</td><td>0.0</td><td>0.0</td><td>40.0</td><td> United-States</td><td> &lt;=50K</td></tr>\n",
              "</table>\n",
              "only showing top 20 rows\n"
            ]
          },
          "metadata": {}
        }
      ]
    },
    {
      "cell_type": "markdown",
      "source": [
        "### Split the data into train and test"
      ],
      "metadata": {
        "id": "0kvEMk1hZ8M5"
      }
    },
    {
      "cell_type": "code",
      "source": [
        "(trainingData, testData) = dataset2.randomSplit([0.75, 0.25])\n",
        "print(trainingData.count())\n",
        "print(testData.count())"
      ],
      "metadata": {
        "colab": {
          "base_uri": "https://localhost:8080/"
        },
        "id": "Qn21SSBIPx3R",
        "outputId": "361f0b49-9e13-4403-bff7-d07a72c05160"
      },
      "execution_count": 143,
      "outputs": [
        {
          "output_type": "stream",
          "name": "stdout",
          "text": [
            "20711\n",
            "6793\n"
          ]
        }
      ]
    },
    {
      "cell_type": "code",
      "source": [
        "from pyspark.ml.classification import LogisticRegression\n",
        "from pyspark.ml.classification import RandomForestClassifier\n",
        "from pyspark.ml.evaluation import BinaryClassificationEvaluator\n",
        "from pyspark.mllib.evaluation import BinaryClassificationMetrics as metric\n",
        "from pyspark import SparkContext\n",
        "from sklearn.metrics import roc_curve, auc, classification_report, confusion_matrix, ConfusionMatrixDisplay\n",
        "\n",
        "evaluator = BinaryClassificationEvaluator()"
      ],
      "metadata": {
        "id": "vHUTjFzYQx98"
      },
      "execution_count": 182,
      "outputs": []
    },
    {
      "cell_type": "code",
      "source": [
        "import matplotlib.pyplot as plt\n",
        "\n",
        "%matplotlib inline"
      ],
      "metadata": {
        "id": "AHpU_bx1TOTY"
      },
      "execution_count": 155,
      "outputs": []
    },
    {
      "cell_type": "markdown",
      "source": [
        "### We will start off by training 2 models with default parameters. Once we get the performance of both we will decide which model to further tune."
      ],
      "metadata": {
        "id": "UfamqFCpb2X3"
      }
    },
    {
      "cell_type": "code",
      "source": [
        "lr = LogisticRegression(labelCol=\"label\", featuresCol=\"features\")\n",
        "rf = RandomForestClassifier(labelCol=\"label\", featuresCol=\"features\")"
      ],
      "metadata": {
        "id": "xEBt4aPDReYB"
      },
      "execution_count": 146,
      "outputs": []
    },
    {
      "cell_type": "code",
      "source": [
        "lrModel = lr.fit(trainingData)\n",
        "rfModel = rf.fit(trainingData)"
      ],
      "metadata": {
        "id": "WUlVlI8qR0Bu"
      },
      "execution_count": 147,
      "outputs": []
    },
    {
      "cell_type": "code",
      "source": [
        "predictions = lrModel.transform(testData)\n",
        "\n",
        "evaluator.evaluate(predictions)"
      ],
      "metadata": {
        "colab": {
          "base_uri": "https://localhost:8080/"
        },
        "id": "bOy8JhUUR-Iu",
        "outputId": "20f8e2a3-c9e9-42ed-bfc3-596bf3c6f568"
      },
      "execution_count": 150,
      "outputs": [
        {
          "output_type": "execute_result",
          "data": {
            "text/plain": [
              "0.9011303588501017"
            ]
          },
          "metadata": {},
          "execution_count": 150
        }
      ]
    },
    {
      "cell_type": "markdown",
      "source": [
        "### Area under-the-curve is about 90% which isn't bad. We can plot the results using Matplotlib."
      ],
      "metadata": {
        "id": "Evfb2bHKcAGF"
      }
    },
    {
      "cell_type": "code",
      "source": [
        "sc = SparkContext.getOrCreate()   # We need to create SparkContext\n",
        "results = predictions.select(['probability', 'label'])\n",
        " \n",
        "## prepare score-label set\n",
        "results_collect = results.collect()\n",
        "results_list = [(float(i[0][0]), 1.0-float(i[1])) for i in results_collect]\n",
        "scoreAndLabels = sc.parallelize(results_list)\n",
        " \n",
        "metrics = metric(scoreAndLabels)\n",
        "print(\"The ROC score is : \", metrics.areaUnderROC)"
      ],
      "metadata": {
        "colab": {
          "base_uri": "https://localhost:8080/"
        },
        "id": "nMFaeY7IShAs",
        "outputId": "331db563-7f03-447e-d5c9-7e92e0ab314d"
      },
      "execution_count": 153,
      "outputs": [
        {
          "output_type": "stream",
          "name": "stdout",
          "text": [
            "The ROC score is :  0.9011367440833042\n"
          ]
        }
      ]
    },
    {
      "cell_type": "code",
      "source": [
        "fpr = dict()\n",
        "tpr = dict()\n",
        "roc_auc = dict()\n",
        " \n",
        "y_test = [i[1] for i in results_list]\n",
        "y_score = [i[0] for i in results_list]\n",
        " \n",
        "fpr, tpr, _ = roc_curve(y_test, y_score)\n",
        "roc_auc = auc(fpr, tpr)\n",
        " \n",
        "plt.figure()\n",
        "plt.plot(fpr, tpr, label='ROC curve (area = %0.2f)' % roc_auc)\n",
        "plt.plot([0, 1], [0, 1], 'k--')\n",
        "plt.xlim([0.0, 1.0])\n",
        "plt.ylim([0.0, 1.05])\n",
        "plt.xlabel('False Positive Rate')\n",
        "plt.ylabel('True Positive Rate')\n",
        "plt.title('Area under the ROC Curve')\n",
        "plt.legend(loc=\"lower right\")\n",
        "plt.show()\n",
        ";"
      ],
      "metadata": {
        "colab": {
          "base_uri": "https://localhost:8080/",
          "height": 313
        },
        "id": "oi6babFVTHQZ",
        "outputId": "ccd8c343-6027-40a8-f104-752971d71dce"
      },
      "execution_count": 156,
      "outputs": [
        {
          "output_type": "display_data",
          "data": {
            "text/plain": [
              "<Figure size 432x288 with 1 Axes>"
            ],
            "image/png": "[encoded data removed]"
          },
          "metadata": {
            "needs_background": "light"
          }
        },
        {
          "output_type": "execute_result",
          "data": {
            "text/plain": [
              "''"
            ],
            "application/vnd.google.colaboratory.intrinsic+json": {
              "type": "string"
            }
          },
          "metadata": {},
          "execution_count": 156
        }
      ]
    },
    {
      "cell_type": "code",
      "source": [
        "predictions = rfModel.transform(testData)\n",
        "\n",
        "sc = SparkContext.getOrCreate()   # We need to create SparkContext\n",
        "results = predictions.select(['probability', 'label'])\n",
        " \n",
        "## prepare score-label set\n",
        "results_collect = results.collect()\n",
        "results_list = [(float(i[0][0]), 1.0-float(i[1])) for i in results_collect]\n",
        "\n",
        "fpr = dict()\n",
        "tpr = dict()\n",
        "roc_auc = dict()\n",
        " \n",
        "y_test = [i[1] for i in results_list]\n",
        "y_score = [i[0] for i in results_list]\n",
        " \n",
        "fpr, tpr, _ = roc_curve(y_test, y_score)\n",
        "roc_auc = auc(fpr, tpr)\n",
        " \n",
        "plt.figure()\n",
        "plt.plot(fpr, tpr, label='ROC curve (area = %0.2f)' % roc_auc)\n",
        "plt.plot([0, 1], [0, 1], 'k--')\n",
        "plt.xlim([0.0, 1.0])\n",
        "plt.ylim([0.0, 1.05])\n",
        "plt.xlabel('False Positive Rate')\n",
        "plt.ylabel('True Positive Rate')\n",
        "plt.title('Area under the ROC Curve')\n",
        "plt.legend(loc=\"lower right\")\n",
        "plt.show()\n",
        ";"
      ],
      "metadata": {
        "colab": {
          "base_uri": "https://localhost:8080/",
          "height": 313
        },
        "id": "83KvnLtvTUrM",
        "outputId": "cdb7de4c-d9d2-40d4-c0bb-3cface65ae80"
      },
      "execution_count": 157,
      "outputs": [
        {
          "output_type": "display_data",
          "data": {
            "text/plain": [
              "<Figure size 432x288 with 1 Axes>"
            ],
            "image/png": "[encoded data removed]"
          },
          "metadata": {
            "needs_background": "light"
          }
        },
        {
          "output_type": "execute_result",
          "data": {
            "text/plain": [
              "''"
            ],
            "application/vnd.google.colaboratory.intrinsic+json": {
              "type": "string"
            }
          },
          "metadata": {},
          "execution_count": 157
        }
      ]
    },
    {
      "cell_type": "markdown",
      "source": [
        "### Both models performed very close. Although Logistic Regression is slightly better, We will further improve the Random Forest classifier."
      ],
      "metadata": {
        "id": "C7b1BW0NcPRf"
      }
    },
    {
      "cell_type": "code",
      "source": [
        "from pyspark.ml.tuning import ParamGridBuilder, CrossValidator"
      ],
      "metadata": {
        "id": "rwbgqlNXTjX7"
      },
      "execution_count": 158,
      "outputs": []
    },
    {
      "cell_type": "code",
      "source": [
        "rf = RandomForestClassifier(labelCol=\"label\", featuresCol=\"features\")\n",
        "\n",
        "paramGrid = (ParamGridBuilder()\n",
        "             .addGrid(rf.maxDepth, range(3, 14, 2))\n",
        "             .addGrid(rf.numTrees, range(100, 301, 100))\n",
        "             .build())\n",
        "\n",
        "cv = CrossValidator(estimator=rf, estimatorParamMaps=paramGrid, evaluator=evaluator, numFolds=7)"
      ],
      "metadata": {
        "id": "DTuN5wfATpba"
      },
      "execution_count": 178,
      "outputs": []
    },
    {
      "cell_type": "code",
      "source": [
        "cvModel = cv.fit(trainingData)"
      ],
      "metadata": {
        "id": "M4hGmfYfTpZH"
      },
      "execution_count": 179,
      "outputs": []
    },
    {
      "cell_type": "code",
      "source": [
        "print(\"max depth:\", cvModel.bestModel.getMaxDepth())\n",
        "print(\"numTrees:\", cvModel.bestModel.getNumTrees)"
      ],
      "metadata": {
        "colab": {
          "base_uri": "https://localhost:8080/"
        },
        "id": "bvEFL4mPtJza",
        "outputId": "951ad31a-b3ba-4e73-d47d-01aac6bc7c3e"
      },
      "execution_count": 219,
      "outputs": [
        {
          "output_type": "stream",
          "name": "stdout",
          "text": [
            "max depth: 13\n",
            "numTrees: 300\n"
          ]
        }
      ]
    },
    {
      "cell_type": "markdown",
      "source": [
        "### Both of the best parameters are at the end of the ranges. We should continue to search for better hyperparameters, but for the sake of this notebook I will continue."
      ],
      "metadata": {
        "id": "qSgU3bQruVHm"
      }
    },
    {
      "cell_type": "code",
      "source": [
        "predictions = cvModel.transform(testData)\n",
        "\n",
        "sc = SparkContext.getOrCreate()   # We need to create SparkContext\n",
        "results = predictions.select(['probability', 'label'])\n",
        " \n",
        "## prepare score-label set\n",
        "results_collect = results.collect()\n",
        "results_list = [(float(i[0][0]), 1.0-float(i[1])) for i in results_collect]\n",
        "\n",
        "fpr = dict()\n",
        "tpr = dict()\n",
        "roc_auc = dict()\n",
        " \n",
        "y_test = [i[1] for i in results_list]\n",
        "y_score = [i[0] for i in results_list]\n",
        " \n",
        "fpr, tpr, _ = roc_curve(y_test, y_score)\n",
        "roc_auc = auc(fpr, tpr)\n",
        "\n",
        "plt.figure(figsize=(12,10))\n",
        "plt.plot(fpr, tpr, label='ROC curve (area = %0.3f)' % roc_auc)\n",
        "plt.plot([0, 1], [0, 1], 'k--')\n",
        "plt.xlim([0.0, 1.0])\n",
        "plt.ylim([0.0, 1.05])\n",
        "plt.xlabel('False Positive Rate')\n",
        "plt.ylabel('True Positive Rate')\n",
        "plt.title('Area under the ROC Curve')\n",
        "plt.legend(loc=\"lower right\")\n",
        "plt.show()\n",
        ";"
      ],
      "metadata": {
        "colab": {
          "base_uri": "https://localhost:8080/",
          "height": 639
        },
        "id": "BlmkQOZYTpXU",
        "outputId": "67cabc4a-ff4d-430f-8811-241243f7a6c1"
      },
      "execution_count": 181,
      "outputs": [
        {
          "output_type": "display_data",
          "data": {
            "text/plain": [
              "<Figure size 864x720 with 1 Axes>"
            ],
            "image/png": "[encoded data removed]"
          },
          "metadata": {
            "needs_background": "light"
          }
        },
        {
          "output_type": "execute_result",
          "data": {
            "text/plain": [
              "''"
            ],
            "application/vnd.google.colaboratory.intrinsic+json": {
              "type": "string"
            }
          },
          "metadata": {},
          "execution_count": 181
        }
      ]
    },
    {
      "cell_type": "code",
      "source": [
        "results = predictions.select(['label', 'prediction'])\n",
        " \n",
        "## prepare score-label set\n",
        "results_collect = results.collect()\n",
        "results_list = [(float(i[0]), float(i[1])) for i in results_collect]\n",
        " \n",
        "y_test = [i[0] for i in results_list]\n",
        "y_pred = [i[1] for i in results_list]\n",
        "\n",
        "print(classification_report(y_test, y_pred))"
      ],
      "metadata": {
        "colab": {
          "base_uri": "https://localhost:8080/"
        },
        "id": "fljmxOxfTpTX",
        "outputId": "047e966e-df2e-41e6-e0e0-6d6b84338e53"
      },
      "execution_count": 185,
      "outputs": [
        {
          "output_type": "stream",
          "name": "stdout",
          "text": [
            "              precision    recall  f1-score   support\n",
            "\n",
            "         0.0       0.87      0.94      0.90      5083\n",
            "         1.0       0.76      0.57      0.65      1710\n",
            "\n",
            "    accuracy                           0.85      6793\n",
            "   macro avg       0.82      0.75      0.78      6793\n",
            "weighted avg       0.84      0.85      0.84      6793\n",
            "\n"
          ]
        }
      ]
    },
    {
      "cell_type": "code",
      "source": [
        "fig, ax = plt.subplots(figsize=(7,7))\n",
        "\n",
        "cm = confusion_matrix(y_test, y_pred)\n",
        "disp = ConfusionMatrixDisplay(confusion_matrix=cm, display_labels=[\"<=50k\", \">50k\"])\n",
        "\n",
        "disp.plot(ax=ax)"
      ],
      "metadata": {
        "colab": {
          "base_uri": "https://localhost:8080/",
          "height": 428
        },
        "id": "Rjs-7wyBTpPN",
        "outputId": "e6c5f785-11fd-4201-e84a-ba60ce2f2a22"
      },
      "execution_count": 195,
      "outputs": [
        {
          "output_type": "execute_result",
          "data": {
            "text/plain": [
              "<sklearn.metrics._plot.confusion_matrix.ConfusionMatrixDisplay at 0x7f27e0bd5450>"
            ]
          },
          "metadata": {},
          "execution_count": 195
        },
        {
          "output_type": "display_data",
          "data": {
            "text/plain": [
              "<Figure size 504x504 with 2 Axes>"
            ],
            "image/png": "[encoded data removed]"
          },
          "metadata": {
            "needs_background": "light"
          }
        }
      ]
    },
    {
      "cell_type": "markdown",
      "source": [
        "### Compare base Random Forest model with tuned Random Forest model"
      ],
      "metadata": {
        "id": "wo_JnWBesxbI"
      }
    },
    {
      "cell_type": "code",
      "source": [
        "plt.figure()\n",
        "\n",
        "for model in [cvModel.bestModel, rfModel]:\n",
        "  predictions = model.transform(testData)\n",
        "\n",
        "  sc = SparkContext.getOrCreate()   # We need to create SparkContext\n",
        "  results = predictions.select(['probability', 'label'])\n",
        "  \n",
        "  ## prepare score-label set\n",
        "  results_collect = results.collect()\n",
        "  results_list = [(float(i[0][0]), 1.0-float(i[1])) for i in results_collect]\n",
        "\n",
        "  fpr = dict()\n",
        "  tpr = dict()\n",
        "  roc_auc = dict()\n",
        "  \n",
        "  y_test = [i[1] for i in results_list]\n",
        "  y_score = [i[0] for i in results_list]\n",
        "  \n",
        "  fpr, tpr, _ = roc_curve(y_test, y_score)\n",
        "  roc_auc = auc(fpr, tpr)\n",
        "  \n",
        "  plt.plot(fpr, tpr, label='ROC curve (area = %0.2f)' % roc_auc)\n",
        "  \n",
        "plt.plot([0, 1], [0, 1], 'k--')\n",
        "plt.xlim([0.0, 1.0])\n",
        "plt.ylim([0.0, 1.05])\n",
        "plt.xlabel('False Positive Rate')\n",
        "plt.ylabel('True Positive Rate')\n",
        "plt.title('Area under the ROC Curve')\n",
        "plt.legend(loc=\"lower right\")\n",
        "plt.show()\n",
        ";"
      ],
      "metadata": {
        "colab": {
          "base_uri": "https://localhost:8080/",
          "height": 313
        },
        "id": "AiGfdTuOrldB",
        "outputId": "9c55d09a-3c06-4d09-9675-742668e734b9"
      },
      "execution_count": 202,
      "outputs": [
        {
          "output_type": "display_data",
          "data": {
            "text/plain": [
              "<Figure size 432x288 with 1 Axes>"
            ],
            "image/png": "[encoded data removed]"
          },
          "metadata": {
            "needs_background": "light"
          }
        },
        {
          "output_type": "execute_result",
          "data": {
            "text/plain": [
              "''"
            ],
            "application/vnd.google.colaboratory.intrinsic+json": {
              "type": "string"
            }
          },
          "metadata": {},
          "execution_count": 202
        }
      ]
    },
    {
      "cell_type": "code",
      "source": [],
      "metadata": {
        "id": "SetY_qBCsqV6"
      },
      "execution_count": null,
      "outputs": []
    }
  ]
}